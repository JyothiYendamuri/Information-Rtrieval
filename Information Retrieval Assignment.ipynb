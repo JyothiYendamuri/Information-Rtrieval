{
 "cells": [
  {
   "cell_type": "code",
   "execution_count": 86,
   "metadata": {},
   "outputs": [
    {
     "name": "stderr",
     "output_type": "stream",
     "text": [
      "[nltk_data] Downloading package punkt to\n",
      "[nltk_data]     C:\\Users\\himaj\\AppData\\Roaming\\nltk_data...\n",
      "[nltk_data]   Package punkt is already up-to-date!\n",
      "[nltk_data] Downloading package stopwords to\n",
      "[nltk_data]     C:\\Users\\himaj\\AppData\\Roaming\\nltk_data...\n",
      "[nltk_data]   Package stopwords is already up-to-date!\n"
     ]
    },
    {
     "data": {
      "text/plain": [
       "True"
      ]
     },
     "execution_count": 86,
     "metadata": {},
     "output_type": "execute_result"
    }
   ],
   "source": [
    "import csv\n",
    "import pandas as pd\n",
    "import numpy as np\n",
    "import os  \n",
    "import requests    \n",
    "from bs4 import BeautifulSoup \n",
    "from nltk.stem.porter import PorterStemmer\n",
    "import nltk\n",
    "from nltk.tokenize import word_tokenize\n",
    "from nltk.corpus import stopwords\n",
    "from nltk.stem import snowball\n",
    "import re\n",
    "import string\n",
    "\n",
    "nltk.download('punkt')\n",
    "nltk.download('stopwords')"
   ]
  },
  {
   "cell_type": "code",
   "execution_count": 90,
   "metadata": {},
   "outputs": [],
   "source": [
    "def webcrawler(initial_url, max_loop):\n",
    "   \n",
    "    write_to_file=[]  \n",
    "    count= 0\n",
    "    \n",
    "    first_url=initial_url + '/publications/'\n",
    "\n",
    "    Queue = [first_url]\n",
    "    \n",
    "    baseurl = \"https://pureportal.coventry.ac.uk\"\n",
    " \n",
    "    while(Queue!=[] and count < max_loop):\n",
    "        url = Queue[0]\n",
    "        print(url)\n",
    "        Queue= Queue[1:]\n",
    "        \n",
    "    \n",
    "        #Reading HTML text and parsing it\n",
    "        req = requests.get(url)\n",
    "        content = req.text            \n",
    "        s = BeautifulSoup(content, \"html.parser\")   \n",
    "        print(\"soup object\")\n",
    "        \n",
    "        data=s.find_all(\"div\", class_=\"result-container\")\n",
    "\n",
    "        #reading information about journals such as title of journal, \n",
    "        for info in data:\n",
    "            #checking author is from CU or not\n",
    "            a_name=[]   \n",
    "            a_link=[]\n",
    "            \n",
    "            indiv_result={}\n",
    "            \n",
    "            a_details= info.find_all(\"a\", class_=\"link person\")\n",
    "            \n",
    "            for a in a_details:\n",
    "                if(a.get('href')!=[]):\n",
    "                    pro_link = a.get('href')\n",
    "                    author=a.string\n",
    "\n",
    "                    a_name.append(author)\n",
    "\n",
    "                    a_link.append(pro_link)\n",
    "\n",
    "                    print(author , \"-\" , pro_link)\n",
    "                    indiv_result['Authors']=a_name\n",
    "                    indiv_result['Profile']=a_link\n",
    "            \n",
    "            if(a_name!=[]):\n",
    "                p_name= info.find(\"h3\", class_=\"title\").text\n",
    "                print(p_name)\n",
    "                indiv_result['Journal name']=p_name\n",
    "\n",
    "                p_link = info.find(\"a\", class_=\"link\").get('href')\n",
    "                print(p_link)\n",
    "                indiv_result['Journal URL']= p_link\n",
    "\n",
    "                p_date=info.find(\"span\", class_=\"date\").text\n",
    "                print(p_date)\n",
    "                indiv_result['Publishing Date']= p_date\n",
    "\n",
    "                write_to_file.append(indiv_result)\n",
    "        \n",
    "        #Next page link\n",
    "        next_page=s.find(\"a\", class_=\"nextLink\")\n",
    "        \n",
    "        if(next_page!= None):\n",
    "\n",
    "            next_page_link=next_page.get('href')\n",
    "            \n",
    "            next_page_link = baseurl + next_page_link \n",
    "\n",
    "            print(\"Link added to queue for next page is: \", next_page_link)\n",
    "            \n",
    "            Queue.append(next_page_link) \n",
    "\n",
    "        \n",
    "        \n",
    "        #making outputs csv file\n",
    "        output = open('output.csv', 'w', encoding=\"utf-8\")\n",
    "        labels=['Authors','Profile','Journal name','Journal URL','Publishing Date']\n",
    "        \n",
    "        writer = csv.DictWriter(output, fieldnames=labels)\n",
    "        writer.writeheader()\n",
    "        \n",
    "        for r in write_to_file:\n",
    "            writer.writerow(r)\n",
    "        output.close()\n",
    "        \n",
    "        count+= 1\n",
    "    \n",
    "        \n"
   ]
  },
  {
   "cell_type": "code",
   "execution_count": 89,
   "metadata": {},
   "outputs": [
    {
     "name": "stdout",
     "output_type": "stream",
     "text": [
      "Press 1 to run crawler and 2 to continue from saved output file3\n",
      "invalid response.\n"
     ]
    }
   ],
   "source": [
    "crawler_input=int(input(\"Press 1 to run crawler and 2 to continue from saved output file\"))\n",
    "if (crawler_input==1):\n",
    "    webcrawler('https://pureportal.coventry.ac.uk/en/organisations/school-of-life-sciences',20)\n",
    "elif (crawler_input==2):\n",
    "    if(os.path.exists(\"output.csv\")):\n",
    "        print(\"Search started from initially saved Crawler optput\")\n",
    "    else: \n",
    "        print(\"You need to crawler first.\")\n",
    "else:\n",
    "       print(\"invalid response.\")"
   ]
  },
  {
   "cell_type": "code",
   "execution_count": 71,
   "metadata": {},
   "outputs": [
    {
     "name": "stdout",
     "output_type": "stream",
     "text": [
      "<class 'pandas.core.frame.DataFrame'>\n",
      "RangeIndex: 513 entries, 0 to 512\n",
      "Data columns (total 5 columns):\n",
      " #   Column           Non-Null Count  Dtype \n",
      "---  ------           --------------  ----- \n",
      " 0   Authors          513 non-null    object\n",
      " 1   Profile          513 non-null    object\n",
      " 2   Journal name     513 non-null    object\n",
      " 3   Journal URL      513 non-null    object\n",
      " 4   Publishing Date  513 non-null    object\n",
      "dtypes: object(5)\n",
      "memory usage: 20.2+ KB\n"
     ]
    }
   ],
   "source": [
    "#Reading csv file and storing contents in dataframe\n",
    "df=pd.read_csv(\"output.csv\")\n",
    "df.info()"
   ]
  },
  {
   "cell_type": "code",
   "execution_count": 91,
   "metadata": {},
   "outputs": [
    {
     "name": "stdout",
     "output_type": "stream",
     "text": [
      "['comparison physical activity homebased centrebased pulmonary rehabilitation randomised controlled secondary analysis', 'actual perceived motor competence mediate relationship physical fitness technical skill performance young soccer players', 'acute hormonal response kettlebell swing exercise differs depending load even total work normalized', 'associations selfreported sleep duration mortality employed individuals systematic review metaanalysis', 'blood cancer care resource limited setting covid19 outbreak single center experience sri lanka', 'british soccer academy personnel perceive psychological technicaltactical attributes important contributors development', 'changes joint kinematics dynamic postural stability free restricted arm movements children', 'comparative analysis reported physical activity leisure centres members versus general population spain', 'crosscultural comparison fundamental movement skills 9 10 year old children england china', 'delivery approaches within exercise referral schemes survey current practice england', 'developing powerful athletes part 2 practical applications', 'resisted sled towing improve physical qualities elite youth soccer players differing maturity status', 'dose response effects bwf shuttle time programme childrens actual perceived fundamental movement skill competence', 'effectiveness structured physical activity interventions evaluation physical activity levels adoption retention maintenance adherence rates systematic review metaanalysis', 'effect barbell load vertical jump landing forcetime characteristics', 'effect sex fatigue quiet standing dynamic balance lower extremity muscle stiffness', 'enhancing implementation sustainability fundamental movement skill interventions uk ireland lessons collective intelligence engagement stakeholders', 'fundamental movement skill proficiency among british primary school children analysis behavioral component level', 'fundamental movement skills perceived competence fitness key factors associated technical skill performance boys play grassroots soccer', 'habitual caffeine consumption affect ergogenicity coffee ingestion 5 km cycling time trial', 'histone mrna subject 3 uridylation readenylation aspergillus nidulans', 'way systematic review process evaluation interventions improve gross motor competence', 'life lockdown role sport exercise physical activity ameliorating mental health implications covid19 restrictions', 'optimal loading force production straight bar deadlift forcetime characteristics strengthtrained adults', 'physical profiling international cricket players investigation bowlers batters ', 'predicting childrens energy expenditure physical activity using deep learning wearable sensor data', 'preschoolers fundamental movement skills predict bmi physical activity sedentary behavior longitudinal study', 'prevalence factors related urinary incontinence older adults women worldwide comprehensive systematic review metaanalysis observational studies', 'rationalizing teacher roles developing assessing physical literacy children', 'skin anisotropy finding optimal incision line volar forearm males females', 'stepping salsa culture experiential account engaging university noncredit dance programme', 'strength conditioning practices perspectives volleyball coaches players', 'testretest reliability soccer dribbling tests children', 'determination lower critical concentration temperature intrinsic viscosity syneresis reaction polymeric gels', 'doseresponse relationship trainingload measures aerobic fitness elite academy soccer players', 'effect fatigue first stance phase kinetics acceleration sprint running professional football players', 'effects high adiposity concentric eccentric muscle performance upper lower limb musculature young older adults', 'impact student attendance assessment specific performance sport degree programs', 'influence covid19 measures united kingdom physical activity levels perceived physical function mood older adults surveybased observational study', 'influence recruitment age anthropometric physical characteristics development pathway english academy football players', 'influence urban food environment diet nutrition health outcomes lowincome middleincome countries systematic review', 'prevalence practices caffeine use ergogenic aid english professional soccer caffeine use professional soccer', 'transitioning feature uncooked cooked cowpea seeds studied mechanical compression test', 'understanding players decisionmaking process team sports systematic review empirical evidence', 'cognitive mechanism exploring decision making university professional rugby union players competitive matches', 'feedforward approach teaching learning assessment undergraduate sports science module', 'affective responses supervised 10week programs resistance exercise older adults', 'agerelated changes isolated mouse skeletal muscle function dependent sex muscle contractility mode', 'agerelated degeneration lumbar paravertebral muscles systematic review threelevel metaregression', 'anglespecific isokinetic metrics highlight strength training needs elite youth soccer players', 'exercise referral schemes associated increase physical activity observational findings using individual patient data metaanalysis national referral database', 'assessing validity reliability determining cutpoints actiwatch 2 measuring physical activity', 'associations selfreported sleep duration cardiometabolic risk factors young africanorigin adults fivecountry modeling epidemiologic transition study mets', 'calibration crossvalidation accelerometery estimating movement skills children aged 812 years', 'circadian oscillations persist cervical esophageal cancer cells displaying decreased expression tumorsuppressing circadian clock genes', 'cocaine byproduct detection metal oxide semiconductor sensor arrays', 'contemporary practices strength conditioning coaches professional soccer', 'cross validation actigraph derived accelerometer cutpoints assessment sedentary behaviour physical activity children aged 811 years', 'ctbased finite element analysis modelling effect trochanteric soft tissue thickness osteoporotic proximal femur fractures sideways fall loading configuration', 'detection humic acid water using flatsheet foldedrod viscous alkaline glucose syrups', 'developing open technology solutions simulated living lab environment research progress amidst covid19 pandemic', 'developing powerful athletes part 1', 'lowerlimb kinematic kinetic asymmetries transfer across sprint running countermovement jumps university rugby union players', 'effects exercise intensity anticipation timing performance cycling task moderate vigorous intensities children aged 711 years', 'firststance phase force contributions acceleration sprint performance semiprofessional soccer players', 'functional col1a1 variants associated risk acute musculoskeletal soft tissue injuries', 'heatrelated issues practical applications paralympic athletes tokyo 2020', 'high intensity interval training exerciseinduced physiological changes potential influence metabolic syndrome clinical biomarkers metaanalysis', 'impact passive heat stress persons spinal cord injury implications olympic spectators', 'increased bone conducted vibration reduces motion sickness automated vehicles', 'individual vs groupbased strategies weight loss management adults pen profile perceptions', 'indoor air pollution physical comfort parameters related schoolchildrens health data european sinphonie study', 'interlimb step asymmetry closed open skill sprint accelerations soccer players', 'isometric midthigh pull characteristics elite youth male soccer players comparisons age maturity offset', 'noninvasive vivo assessment cardiac metabolism healthy diabetic human heart using hyperpolarized 13c mri', 'observing key characteristics exercise referral schemes united kingdom  delivery approaches currently used england', 'preventive antibiotic treatment calves emergence dysbiosis causing propagation obese stateassociated mobile multidrug resistancecarrying bacteria', 'profiling movement behaviours preschool children selforganised map approach', 'raising digital profile facial palsy national surveys patients clinicians experiences changing uk treatment pathways views future role digital technology', 'resistance training protocols promote strength increase without morphological changes', 'rheological tribological sensory attributes texturemodified foods dysphagia patients elderly review', 'run jump throw catch proficient children attending english schools fundamental motor skills identified key within school curriculum', 'synthesis stability biological studies fluorinated analogues thromboxane a2', 'effectiveness primary school based badminton intervention childrens fundamental movement skills', 'effects caffeine ingestion measures rowing performance systematic review metaanalysis', 'effects combined movement storytelling intervention motor skills south asian white children aged 56 years living united kingdom', 'effects stretching cryotherapy stretching heat stretching alone hamstring flexibility physically active females', 'effects turmeric grain structure properties copper electrodeposited composites', 'impact highfat diet mice dependent duration age differs muscles', 'impact rule modifications player behaviour talent identification development environment case study rugby football unions wellington academy rugby festival', 'kinematic kinetic development sprinting countermovement jump performance boys', 'tpicos em fisiologia e bioqumica com nfase exerccio e treinamento fsico', 'understanding presence mental fatigue english academy soccer players', 'using accelerometry classify physical activity intensity older adults optimal wearsite', 'ventilatory chronotropic incompetence incremental constant load exercise endstage renal disease comparative physiology study', 'combined movement storytelling intervention enhances motor competence language ability preschoolers greater extent movement storytelling alone', 'comparison smartphone app gps tracking type devices employed football', 'ageing alters severity sunitinibinduced cardiotoxicity investigating mitogen activated kinase kinase 7 pathway association', 'altering wetting properties orthopaedic titanium alloy ti6al7nb using laser shock peening', 'application levitationjet synthesized nickelbased nanoparticles gas sensing', 'applying strengthsbased psychoeducational model rehabilitation treatment intimate partner violence program theory logic model', 'route sustainable nickel composite electrodeposit using turmeric new low nickel ion concentration electrolyte', 'asymmetry dominant nondominant shoulders university level men women volleyball players', 'augmented reality virtual patients clinical exercise prescription', 'caffeine supplementation powerlifting competitions evidencebased approach', 'arm movements improve postural stability challenging standing balance tasks', 'cardiac stunning haemodialysis therapeutic effect intradialytic exercise', 'cardiorespiratory coordination reveals trainingspecific physiological adaptations', 'cervical range motion school age rugby union players  cross sectional study', 'coffee ingestion improves 5 km cycling performance men women similar magnitude', 'critical evaluation extrapolation data relative antioxidant function laboratory implications food production human health review', 'detection heterogeneous protein sacylation cells', 'changes cardiorespiratory fitness resulting physical activity interventions impact academic performance executive function children adolescents systematic review metaanalysis metaregression', 'dietaryinduced obesity old age impair contractile performance isolated mouse soleus extensor digitorum longus diaphragm skeletal muscles', 'perception motor competence mediate associations motor competence physical activity early years children', 'dynamic postural control children arms lend legs helping hand', 'editorial fatigue recovery football', 'editorial cross adaptation cross tolerance human health disease', 'effects movement velocity training frequency resistance exercise functional performance older adults randomised controlled trial', 'estimating physical activity children aged 811 years using accelerometry contributions fundamental movement skills different accelerometer placements', 'evaporative heat loss insufficient attain heat balance rest individuals spinal cord injury high ambient temperature', 'examining accelerometer validity estimating physical activity preschoolers free living activity', 'examining effects exercise referral schemes changes physical activity levels', 'examining presence cronobacter spp readytoeat edible insects', 'exercise intensitydependent effects arm legcycling cognitive performance', 'exploring preparation practices teachers organise secondary school ski trips england wales', 'facial palsy therapy novel smart spectacles help people smile', 'higher education outreach examining key challenges academics', 'hightemperature synthesis nickelbased nanoparticles use materials sensors potentially hazardous gases', 'investigating dose response relationship high fat diet consumption contractile performance isolated mouse soleus edl diaphragm muscles', 'investigation pedestrian height suv frontend height effects crash', 'isokinetic strength differences elite senior youth female soccer players identifies training requirements', 'low doses caffeine  enhancement physical performance elite adolescent male soccer players', 'maternal dietary pattern emphasis child growth pattern exclusive breastfeeding duration', 'morphological alterations mouse skeletal muscles early ageing muscle specific', 'motion sickness automated vehicles forward rearward facing seating orientations', 'motion sickness prediction device automated vehicles', 'mrna levels buffered upon knockdown rna decay translation factors via adjustment transcription rates human hepg2 cells', 'novel isokinetic dynamometry thigh musculature anterior cruciate ligament rehabilitation professional soccer explorative case study', 'peertopeer teaching experience 3rd year undergraduate sports therapy students impact upon applied academic performance', 'prevalence overweight obesity elementary school students vitria es', 'protein engineering pseudomonas fluorescens peroxidase dyp1b oxidation phenolic polymeric lignin substrates', 'research tracker 6 accelerometer calibration validation comparison geneactiv actigraph gas analysis young adults', 'salsa dance perceived mental health benefits servant leadership theorydriven study', 'sequencing effects object control locomotor skill integrated neuromuscular training 67 year old children', 'antimicrobial efficacy hypoxia mimicking cobalt oxide doped phosphatebased glasses clinically relevant gram positive gram negative bacteria fungal strain', 'effect absolute exercise intensity core temperature responses athletes spinal cord injury', 'effect acute caffeine ingestion upper lower body anaerobic exercise performance', 'effect acute caffeine ingestion upper body anaerobic exercise cognitive performance', 'effects lowvolume highintensity interval training circuit training maximal oxygen uptake', 'future development pathway strength conditioning proposed model uksca', 'influence caffeine expectancies simulated soccer performance recreational individuals', 'likely effects thermal climate change vertebrate skeletal muscle mechanics possible consequences animal movement behaviour', 'therapeutic perceptions management transplant athletes transplant games', 'reliability validity barmounted push bandtm 20 bench press moderate heavy loads', 'thermoregulation upper body exercise', 'tumour suppressing role circadian clock', 'tiotropium bromide long acting muscarinic receptor antagonist triggers intracellular calcium signalling heart', 'transplantee athlete training characteristics', 'ultrasonic preparation stability thermal conductivity capped copper  methanol nanofluid', 'using theory understand barriers engagement group offending behavior programs', 'viewpoints adolescents overweight obesity attending lifestyle obesity treatment interventions qualitative systematic review', 'comparison structured homebased rehabilitation programme conventional supervised pulmonary rehabilitation randomised noninferiority trial', 'gamified mysterydriven approach facilitating problem based learning postgraduate strength conditioning module', 'agerelated changes natural killer cell response seasonal influenza vaccination influenced synbiotic randomised controlled trial', 'evaluation antimicrobial effects phytochemical fractions prosopsis africana uvaria chamae staphylococcus aureus pseudomonas aeruginosa', 'new intervention model increasing physical activity levels fitness centres based behaviour change wheel', 'new procedure template synthesis metal nanowires', 'exerciseinduced improvement isolated skeletal muscle contractility affect performanceenhancing benefit 70 mum caffeine treatment', 'qualitative exploratory study nurses decisionmaking interrupted medication administration within paediatric intensive care unit', 'assessment power', 'association academic outreach evidence submission upp foundation civic university commission 2018 association academic outreach', 'weekly structured physical activity program enhances shortterm retention middleaged adult fitness centre users', 'cardiorespiratory perceptual responses selfregulated imposed submaximal armleg ergometry', 'cardiorespiratory fitness activity explains obesitydeprivation relationship children', 'carrying heavy asymmetrical loads increases postural sway quiet standing older adults', 'change direction technical models biomechanical principles', 'children albinism african regions rights ', 'classification spinal cord injury role thermoregulation', 'coffee ingestion enhances 1mile running race performance', 'construct validity resistance training skills battery children aged 710 years', 'countdown games prepared ', 'cpt1adependent longchain fatty acid oxidation essential maintaining glucagon secretion pancreatic islets', 'descriptive phenomenological data collection sport psychology research', 'effect zr addition corrosion ti acidic reactive oxygen species roscontaining environments', 'effects 12week structured exercise intervention cholesterol', 'effects exercise referral schemes physical activity  preliminary results', 'effects external loads postural sway quiet stance adults aged 2080 years', 'fatty acids prevent hypoxiainducible factor 1 signalling type 2 diabetes', 'forcetime characteristics countermovement jump analyzing curve excel', 'fundamental motor skills children deprived areas england  focus age gender ethnicity', 'fundamental movement skills children living england  role ethnicity native language', 'hemodynamic instability dialysis potential role intradialytic exercise', 'hydrophobicallymodified chitosan nanoliposomes intestinal drug delivery', 'identity development premier league academy football', 'impact ageing synbiotic immune response seasonal influenza vaccination randomised controlled trial', 'importance propionibacterium acnes hemolytic activity human intervertebral discs microbiological study', 'injury surveillance nonprofessional salsa dance', 'investigating transmissibility tetw bifidobacteria exposed acid bile stress', 'involvement mitogen activated kinase kinase 7 intracellular signalling pathway sunitinibinduced cardiotoxicity', 'making waves final report evaluation making wavesripple2 spread project', 'microbiota gut antibioticinduced dysbiosis adverse effects human health', 'modulation regulatory cells targeting nfatfoxp3 protein protein interaction', 'movement velocity high lowvelocity resistance exercise protocols older adults', 'mth1 deficiency selectively increases noncytotoxic oxidative dna damage lung cancer cells bad news good', 'next day subjective objective recovery indices following acute low high training loads academy rugby union players', 'nickelbased nanoparticles carbon monoxide gas sensing applications', 'pectin coating titanium polystyrene surfaces modulates macrophage inflammatory response', 'phenos highthroughput flexible tool microorganism growth phenotyping solid media', 'physiological responses treadmill running body weight support hypoxia compared normoxia', 'plyometric technical models biomechanical principles', 'presentation communication results', 'quadriplegia challenge thermoregulation', 'relationships motor competence physical activity obesity british preschool aged children', 'reliability validity measurement error', 'sacylation regulates trafficking stability unconventional qsnare stx19', 'seasonal changes physical qualities elite youth soccer players according maturity status comparisons aged matched controls', 'selfperceived actual motor competence young british children', 'sugar cocoa sweet synergy bitter antagonisms formulating cocoa chocolate products health narrative review', 'acute physiological effects high low velocity resistance exercise older adults', 'characteristics competitive organ transplant athletes', 'effect increasing age concentric eccentric contractile properties isolated mouse soleus extensor digitorum longus muscles', 'effects 10 weeks integrated neuromuscular training fundamental movement skills physical selfefficacy 67 year old children', 'effects exercise referral schemes united kingdom cardiovascular mental health musculoskeletal disorders preliminary systematic review', 'effects low moderate dose caffeine supplementation upper lower body maximal voluntary concentric eccentric muscle force', 'effects obesity skeletal muscle contractile function', 'influence caffeine expectancies sport exercise cognitive performance', 'perceptual responses highvelocity lowload lowvelocity highload resistance exercise older adults', 'thermoregulation following spinal cord injury', 'validity push band 20 vertical jump performance', 'whole body precooling attenuates extracellular hsp72 il6 il10 responses acute bout running heat', 'altering visual feedback conditions impacts postural sway performance children controlling body mass index habitual physical activity', 'antibiofilm activity prosopis africana uvaria chamae extracts preformed biofilm clostridium difficile propionibacterium acnes strains', 'attenuation sunitinibinduced cardiotoxicity a3 adenosine receptor activation', 'autonomous motivation mediates relation goals physical activity physical activity behavior adolescents', 'born albinism africa', 'calibration geneactiv accelerometer wrist cutpoints assessment physical activity intensity preschool aged children', 'carbohydrate mouth rinse improves morning highintensity exercise performance', 'changes kinematics armleg coordination 100m breaststroke swim', 'irish adolescents adequate functional movement skill confidence', 'effect cadence locomotorrespiratory coupling upperbody exercise', 'effects cooling simulated match play thermoregulatory responses athletes tetraplegia', 'erratum hfe mrna expression responsive intracellular extracellular iron loading short communication molecular biology reports 2017 44 5 399403 101007s1103301741232', 'heat hypoxic acclimation increase monocyte heat shock protein 72 attenuate inflammation following hypoxic exercise', 'hfe mrna expression responsive intracellular extracellular iron loading short communication', 'injury surveillance female adult zumba dancers', 'ergogenicity caffeine affected increasing age direct effect physiological concentration caffeine power output maximally stimulated edl diaphragm muscle isolated mouse', 'live attenuated influenza vaccine contains substantial unexpected amounts defective viral genomic rna', 'low fundamental movement skill proficiency associated high bmi body fatness girls boys aged 611 years old', 'modification ntype ptype semiconductor sensor devices security applications', 'doseresponse effect carbohydrate mouth rinse concentration 5 km running performance recreational athletes', 'obesityinduced decreases muscle performance reversible weight loss', 'objectively assessed physical activity sedentary behaviour pregnancy portuguese women differences weekdays weekends', 'precooling moderately enhances visual discrimination exercise heat', 'preschool staff parents perceptions preschool childrens physical activity fundamental movement skills area high deprivation qualitative study', 'protein gels', 'relationships measures physical fitness change age dependent bias removed group young male soccer players', 'scaling childrens waist circumference differences body size', 'south asian children increased body fat comparison white children body mass index', 'support leg action contribute maximal instep soccer kick performance intervention study', 'agerelated association movement irish adolescent youth', 'effect badminton specific exercise badminton short serve performance competition practice climates', 'effect obesity contractile performance isolated mouse soleus edl diaphragm muscles', 'effect critical moments identity development premier league academy football players', 'effects 8 weeks voluntary wheel running contractile performance isolated locomotory soleus respiratory diaphragm skeletal muscle early ageing', 'effects barbell load countermovement vertical jump power net impulse', 'fate pollutants laboratorybased pervious paving systems', 'fate pollutants porous asphalt pavements laboratory experiments investigate potential impact environmental health', 'influence cycling intensity upon cognitive response inferred practice competition conditions', 'thermodysregulation persons spinal cord injury case series use autonomic standards', 'thermoregulatory reponses competitive wheelchair rugby match play', 'uav operator mental workload neurophysiological comparison mental workload vigilance', 'validity reliability modified shuttle walk test older adults', 'viewpoints overweight obese adolescents attending lifestyle obesity treatment interventions qualitative systematic review', 'views overweight obese adolescents 1217yrs attending lifestyle treatment interventions qualitative systematic review', 'whole grain cereals primary secondary prevention cardiovascular disease cochrane database systematic reviews', 'activation energy disruption gel networks relation elastically stored energy finestranded ovalbumin gels', 'addition orange pomace orange juice attenuates increases peak glucose insulin concentrations sequential meal ingestion men elevated cardiometabolic risk', 'agreement force platform method combined method measurements power output loaded countermovement jump', 'integrated curriculum approach increasing habitual physical activity deprived south asian children', 'antimicrobial activity selected herbal extracts propionibacterium acnes causative agent skin acne lesions', 'coffee caffeine ingestion little effect repeated sprint cycling relatively untrained males', 'competition collaboration using social gamified online learning platform', 'cross acclimation heat hypoxia heat acclimation improves cellular tolerance exercise performance acute normobaric hypoxia', 'doseresponse pedometer assessed physical activity functional fitness fatness healthy adults aged 5080 years', 'dual task performance older adults examining visual discrimination whilst treadmill walking preferred nonpreferred speeds', 'effective microorganism  x attenuates circulating superoxide dismutase following acute bout intermittent running hot humid conditions', 'effect synbiotic response seasonal influenza vaccination strongly influenced degree immunosenescence', 'effect coffee caffeine ingestion resistance exercise performance', 'evaluating effects caffeine sodium bicarbonate ingested individually combination tastematched placebo highintensity cycling capacity healthy males', 'examining relative age effects fundamental skill proficiency british children aged 611 years', 'exercise academic achievement children effects acute classbased circuit training', 'exploring relationship exposure technological gastrointestinal stress probiotic functional properties lactobacilli bifidobacteria', 'flavanonerich citrus beverages counteract transient decline postprandial endothelial function humans randomised controlled doublemasked crossover intervention study', 'functional symbology  evaluation taskspecific headup display information use commercial flight deck', 'hydrocarbon biodegradation hard infrastructure', 'letter editor concerning prospective study using anterior approach show association modic 1 changes low grade infection lumbar spine rigal j et al eur spine j 2016 apr 25410005', 'love builds episode 5', 'love builds episode 6', 'love builds episodes 16 synopsis', 'match play demands 11 versus 11 professional football using global positioning system tracking variations across common playing formations', 'measurement saliva flow rate healthy young humans influence collection time mouthrinse water temperature', 'metal oxide semiconductors drug marker cigarette detection', 'monoterpene emission young scots pine may influenced nutrient availability', 'morphological differences habitats associated physiological behavioural tradeoffs stickleback gasterosteus aculeatus', 'multivariate analyses individual variation soccer skill tool talent identification development utilising evolutionary theory sports science', 'orange pomace fibre increases composite scoring subjective ratings hunger fullness healthy adults', 'placebo effects caffeine maximal voluntary concentric force knee flexors  extensors', 'preparation paralympic athletes environmental concerns heat acclimation', 'relationship physical activity levels body fat children aged 89 uk schools low socioeconomic areas', 'report youth justice board study effect restraint positions lung function', 'salsa dance zumba fitness acute responses communitybased classes', 'scaling waist girth differences body size reveals new improved index associated cardiometabolic risk', 'effect exercise intensity cognitive performance short duration treadmill running', 'effect highintensity cycling training postural sway standing rested fatigued conditions healthy young adults', 'effects heat acclimation protocol persons spinal cord injury', 'healthenhancing efficacy zumba fitness 8week randomised controlled study', 'thyroid hormone influences muscle mechanics carp cyprinus carpio independently serca activity', 'towards blending digital physical learning contexts gamified pervasive approach', 'use geosynthetics sustainable drainage', 'validation phillips et al geneactiv accelerometer wrist cutpoints children aged 58 years old', 'water holding determinant elastically stored energy proteinbased gels', 'comparison two commercially available elisa methods quantification human plasma heat shock protein 70 rest exercise stress', 'evaluation prediction equations 6 minute walk test healthy european adults aged 5085 years', 'overview leucine metabolites alphaketoisocaproate kic betahydroxibetamethyl butyrate hmb skeletal muscle function sports performance', 'aspergillus nidulans upf1 putative role conserved active sites ribosome recycling 3 end mrna tagging', 'barriers access factors limiting full participation children albinism school northern malawi part 1', 'barriers access factors limiting full participation children albinism school northern malawi part 2', 'barriers access visually impaired young people albinism malawi attending school overview  guidelines', 'carbohydrate caffeine mouth rinses affect maximum strength muscular endurance performance', 'coincidence anticipation timing performance acute bout brisk walking older adults effect stimulus speed', 'pervious pavements really need pervious surfaces concept macropervious pavement suds device', 'effectiveness precooling cooling play wheelchair rugby performance', 'effect home based pulmonary rehabilitation programme physical activity patients chronic obstructive pulmonary disease', 'effect carbohydrate caffeine ingestion badminton performance', 'environmental school influences physical activity south asian children low socioeconomic backgrounds qualitative study', 'etiology musculoskeletal injuries amateur breakdancers', 'evaluation pervious macropervious pavements harvesting systems localized landscape horticultural irrigation', 'evaluation effectiveness wrapping filter drain pipes geotextile pollution prevention response relatively large oil releases', 'examining utility thresholds aerobic fitness related resting blood pressure bmi portuguese children', 'human monocyte heat shock protein 72 responses acute hypoxic exercise 3 days exercise heat acclimation', 'infrared heating adjunct achieve vehicle occupant thermal comfort', 'insulin resistance women polycystic ovary syndrome  optimising treatment implementing vitro insulin resistance organ culture model', 'larger lacertid lizard species produce higher expected iliotibialis muscle power output evolution muscle contractile mechanics body size lacertid lizards', 'optimal body size limblength ratios associated 100m pb swim speeds', 'perceptions wellbeing physical performance english elite youth footballers across season', 'regional thermal specialisation mammal temperature affects power output core muscle peripheral muscle adult mice mus musculus', 'step based physical activity guidelines preschoolaged children', 'student perceptions experiences problembased learning first year undergraduate sports therapy', 'association anthropometric variables functional movement screen scores 100 freestyle swimming performance youth swimmers', 'effect caffeine rhodiola rosea alone combination 5km running performance men', 'effects ice vest precooling skin blood flow rest exercise heat', 'effects sodium bicarbonate supplementation soccer specific conditioning test division iii soccer players', 'impact 24h ultramarathon circulatory endotoxin cytokine profile', 'impact schoolbased gardening intervention intentions behaviour related fruit vegetable consumption children', 'towards understanding contribution seat heating cooling occupant thermal sensation comfort methodological considerations', 'isolated skeletal muscle experiments tell us effects caffeine exercise performance', 'antimicrobial treatment improves mycobacterial survival nonpermissive growth conditions', 'assessing effects exposure environmental stress functional properties bifidobacterium animalis ssp lactis', 'caspase inhibition via a3 adenosine receptors new cardioprotective mechanism myocardial infarction', 'combined triaxial accelerometry heart rate telemetry physiological characterization latin dance nonprofessional adults', 'efeito da ingesto de cafena sobre desempenho treinamento de fora', 'effects exercise intensity perceived exertion multiple sets bench press volitional failure', 'fibril formation pea protein subsequent gel formation', 'love builds episode 4', 'modification ovalbumin fructooligosaccharides consequences network morphology mechanical deformation responses', 'perturbed energy balance hydration status ultraendurance runners 24 h ultramarathon', 'physical activity patients chronic obstructive pulmonary disease', 'physiological perceptual responses latin partnered social dance', 'results space copd programme comparison pulmonary rehabilitation programme 6 months', 'ability store energy pea protein gels set network dimensions smaller 50nm', 'impact 24h ultramarathon salivary antimicrobial protein responses', 'use freely available open source tools silico screening chemical biology', 'critical moments identity elite premier league academy football', 'addressing critique teasi framework invasive species risk assessment', 'novel approach oral iron delivery using ferrous sulphate loaded solid lipid nanoparticles', 'selfmanagement programme activity coping education space copd randomised noninferiority trial pulmonary rehabilitation population', 'assessment ergogenic effect caffeine supplementation mood anticipation timing muscular strength older adults', 'compromised energy macronutrient intake ultraendurance runners multistage ultramarathon conducted hot ambient environment', 'critical moments identity elite premier league academy football', 'employing descriptive phenomenology within sport psychology research challenges encountered resolutions explored', 'evaluation skeletal muscle satellite cell activity rodent models depicting muscle hypertrophy atrophy', 'kinematic adaptations sprint acceleration performances without constraint holding field hockey stick', 'modulation gelation efficiency fibrillar spherical aggregates means thiolation', 'oxidation tertiary aminederivatized surfaces control protein adhesion', 'palmitoylation trafficking peripheral membrane proteins', 'performance enhancement drugs sports supplements resistance training', 'polymorphic variation within adamts2 adamts14 adamts5 adam12 timp2 genes risk achilles tendon pathology genetic association study', 'salivary antimicrobial protein responses multistage ultramarathon competition conducted hot environmental conditions', 'structure function regulation versican abundant type proteoglycan extracellular matrix', 'water sodium intake habits status ultraendurance runners multistage ultramarathon conducted hot ambient environment observational field based study', 'writing lab reports projects sport exercise science', '3 days heat acclimation attenuates monocyte hsp70 response following acute hypoxic exposure humans', 'cell cycle dna repair pathwayspecific effects apoptosis tumor suppression', 'critical moments elite premiership football  think ', 'en2 candidate antigen development targeted therapies breast cancer', 'folliculin interacts p0071 plakophilin4 deficiency associated disordered rhoa signalling epithelial polarization cytokinesis', 'gene variants predispose achilles tendon injuries update recent advances', 'matrix metalloproteinase genes chromosome 11q22 risk anterior cruciate ligament acl rupture', 'methods monitoring training adolescent soccer players', 'modulation regulatory cells targeting nfatfoxp3 protein  protein interaction', 'plant health challenges sustainable land use rural economy', 'sleep habits recovery quality ultraendurance runners multistage ultramarathon competition heat', 'teasing apart alien species risk assessments framework best practices', 'effect physiological concentrations caffeine power output maximally submaximally stimulated mouse edl fast soleus slow muscle', 'lived experience elite homegrown footballers premier league academy descriptive phenomenological exploration', 'birt hoggdub syndromeassociated flcn mutations disrupt protein stability', 'daily torpor reduces mass changes stress power output soleus edl muscles djungarian hamster phodopus sungorus', 'determining noninvasiveness ornamental plants build green lists', 'en2 candidate antigen development targeted therapies ovarian cancer', 'endoplasmic reticulum localization dhhc palmitoyltransferases mediated lysinebased sorting signals', 'functional interplay mre11 nuclease ku response replicationassociated dna damage', 'fundamental movement skill mastery british primary school children differences due gender school year', 'improvements functional movement screen scores across 6 months inseason strength conditioning training elite academy football players', 'injuries sport among children adolescents', 'maintaining hamstrings quadriceps ratio elite academy soccer players strength conditioning programme', 'monocytederived macrophages matured prolonged hypoxia transcriptionally upregulate hif1 mrna', 'physical activity levels 6week schoolbased active videogaming intervention using gamercize power stepper british children', 'predominance cd8 cell infiltration coincides reciprocal reduction regulatory cells following prostate cryotherapy', 'rapd microsatellite transferability studies selected species prosopis section algarobia emphasis prosopis juliflora p pallida', 'therapeutic targeting loss birthoggdube suppressor gene', 'use macrophages target therapeutic adenovirus human prostate tumors', 'utility accelerometers measure physical activity children attending obesity treatment intervention', 'functional variant within mmp3 gene associate human range motion', 'evaluation 5week schoolbased exergaming intervention using gamercize power stepper body mass index physical activity school lunch breaks british primary school children', 'comparisons peak power prediction equations adolescent female basketballers', 'components transforming growth factorbeta family pathogenesis human achilles tendon pathologya genetic association study', 'concurrent validity backwards overhead medicine ball throw test explosive power adolescents', 'en2 novel immunotherapeutic target melanoma', 'genotypic characterization brochothrix spp isolated meat poultry fish', 'histone deacetylase inhibitor induces dna damage normal transformed cells repair', 'impact olympic lifting programme performance tests elite football academy players', 'paradoxical postexercise responses acylated ghrelin leptin simulated night shift', 'sg2285 novel c2arylsubstituted pyrrolobenzodiazepine dimer prodrug cross links dna exerts highly potent antitumor activity', 'intracellular dynamic protein palmitoylation', 'need continued monitoring antibiotic resistance patterns clinical isolates staphylococcus aureus london malta', 'relationship bodymass index balance 716 year old boys', 'use bioelectrical impedance analysis bia assessing hydration status runners competing multistage ultramarathon conducted hot ambient environment', 'effects 6week circuit training intervention body esteem body mass index british primary school children', 'genetic risk factors musculoskeletal soft tissue injuries', 'inhibition aquaporin 3 water channel increases sensitivity prostate cancer cells cryotherapy', 'maintenance dnadamage checkpoint requires dnadamageinduced mediator protein oligomerization', 'modeling atm mutant proteins missense changes confirms retained kinase activity', 'palmitoylation synaptic vesicle fusion machinery', 'placebo effects caffeine shortterm resistance exercise failure', 'pulmonary rehabilitation using space selfmanagement programme activity coping education manual home randomised controlled trial', 'twinarginine translocation tat systems bacillus subtilis display conserved mode complex organization similar substrate recognition requirements', 'a3 adenosine receptors protects myocardium via recruitment pi3kaktinos cell survival pathway', 'caspase inhibitors induce pi3 kinase mediated myocardial protection early reperfusion', 'children video games physical activity exploratory study', 'common variants genes underlying monogenic hypertension hypotension blood pressure general population', 'epidemiology communityacquired meticillinresistant staphylococcus aureus obtained uk west midlands region', 'fluid provision metabolic responses soccerspecific exercise', 'immunodeficiency ataxia telangiectasia correlated strongly presence two null mutations ataxia telangiectasia mutated gene', 'muscle fatigue football matchplay', 'palmitoylation gates phosphorylationdependent regulation bk potassium channels', 'pathogenic atm mutations occur rarely subset multiple myeloma patients', 'escherichia coli tatabc system bacillus subtilis tatactype system recognise three distinct targeting determinants twinarginine signal peptides', 'uk epidemic strains meticillinresistant staphylococcus aureus clinical samples malta', 'bases consensus statement physical activity prevention chronic disease', 'effects hand cooling intermittent exercise performance heat', 'load carriage increases arterial haemoglobin oxygen saturation inclined treadmill walking hypoxia', 'neutrophil activity uphill walking acute hypoxia equivalent 3000 ', 'reducing uncompensable heat stress bomb disposal eod suit laboratory based assessment', 'targeting proteins twinarginine translocation system bacteria chloroplasts', 'detecting repair intermediates vivo effects dna damage response genes singlestranded dna accumulation uncapped telomeres budding yeast', 'dissecting components humoral immune response elicited dna vaccines', 'interaction transmembrane domain lysis protein e bacteriophage phix174 bacterial translocase mray peptidylprolyl isomerase slyd', 'mrx protects telomeric dna uncapped telomeres budding yeast cdc131 mutants', 'structure regulatory subunit acetohydroxyacid synthase isozyme iii escherichia coli', 'association wnk1 gene polymorphisms haplotypes ambulatory blood pressure general population', 'cancer risks mortality heterozygous atm mutation carriers', 'graded exercise testing uphill walking studies', 'lactone synthesis activity sitedirected mutant extradiol catechol dioxygenase enzyme', 'mapping major locus determines telomere length humans', 'repeatability pulse oximetry hypoxic normoxic incremental exercise', 'reproducibility vo2 peak achieved cycle ergometry normoxia hypoxia', 'structure function complex formed tuberculosis virulence factors cfp10 esat6', 'acidbase catalysis extradiol catechol dioxygenase reaction mechanism sitedirected mutagenesis his115 his179 escherichia coli 23dihydroxyphenylpropionate 12dioxygenase mhpb', 'plasma membrane targeting exocytic snare proteins', 'effects cadence upon excess postexercise oxygen consumption upper body exercise', 'amino fatty acids harsh environments', 'effect acute hypocapnic hypoxia circulating leucocyte subsets neutrophil activity plasma antioxidant status exercise 50  normoxic vo2peak', 'exercise hypoxia stress intensive training altitude winter may lead immunodepression', 'functional spatial segregation secretory vesicle pools according vesicle age', 'nterminal domain regulatory subunit sufficient complete activation acetohydroxyacid synthase iii escherichia coli', 'stress intensive training altitude winter training desert', 'effect acute hypocapnic hypoxia circulating leucocyte subsets neutrophil activity plasma antioxidant status exercise 50 normoxic vo2 peak', 'efficacy semliki forest virus transduction bovine adrenal chromaffin cells analysis heterologous protein targeting distribution', 'exocytosis studies chromaffin cellfree system imaging singlevesicle exocytosis chromaffin cellfree system using total internal reflection fluorescence microscopy', 'human leucocyte trafficking function responses acute hypocapnic hypoxia', 'regulation rat vl30 element human breast cancer cells hypoxia anoxia role hif1', 'acetohydroxyacid synthase proposed structure regulatory subunits supported evidence mutagenesis', 'picking parallels plant circadian clocks context', 'health intervention programme children albinism special school south africa', 'health education children albinism zimbabwe', 'human erythrocyte plasma amino acid concentrations exercise', 'antitumour prodrug development using cytochrome p450 cyp mediated activation', 'nitroblue  tetrazolium test useful measure leukocyte activation cardiopulmonary bypass', 'development walking test assessment functional capacity nonanaemic maintenance dialysis patients', 'reductive metabolism application prodrug application', 'coupled replicationtranslation methods kits protein synthesis', 'distribution oculocutaneous albinism zimbabwe', 'method preparing polypeptides cellfree translation system', 'molecular epidemiology human rotaviruses manipur genome analysis rotaviruses long electropherotype subgroup ', 'rearrangement vp6 gene group rotavirus combination point mutation affecting trimer stability', 'alteration transcription factor mrnas isolation culture rat hepatocytes suggests activation proliferative mode underlies dedifferentiation', 'nucleotide sequences vp4 vp7 genes chinese lamb rotavirus evidence new p type g10 type virus', 'reconstruction bonebone marrow organ osteogenin bone morphogenetic protein demineralized bone matrix calvarial defects adult primates', 'method preparative genes expression cellfree system coupled transcriptiontranslation', 'pathogenicity two porcine rotaviruses differing vitro growth characteristics genes 4', 'method preparative expression genes cellfree system conjugated transcriptiontranslation', 'method preparative expression genes cellfree system conjugated transcriptiontranslation']\n"
     ]
    }
   ],
   "source": [
    "#Applying Pre-processing steps\n",
    "import re\n",
    "import string\n",
    "processed_journal = []\n",
    "for t in df['Journal name']:\n",
    "    # Removing Unicode\n",
    "    clean_title = re.sub(r'[^\\x00-\\x7F]+', '', t)\n",
    "    # Removing Mentions\n",
    "    clean_title = re.sub(r'@\\w+', '', clean_title)\n",
    "    # Converting into lowercase\n",
    "    clean_title = clean_title.lower()\n",
    "    # Removing punctuations\n",
    "    clean_title = re.sub(r'[%s]' % re.escape(string.punctuation), '', clean_title)\n",
    "    #removing stop words\n",
    "    stop = re.compile(r'\\b(' + r'|'.join(stopwords.words('english')) + r')\\b\\s*')\n",
    "    text = stop.sub('', clean_title)\n",
    "    processed_journal.append(text)\n",
    "    \n",
    "print(processed_journal)"
   ]
  },
  {
   "cell_type": "code",
   "execution_count": 92,
   "metadata": {},
   "outputs": [
    {
     "name": "stdout",
     "output_type": "stream",
     "text": [
      "['comparison physic activ homebas centrebas pulmonari rehabilit randomis control secondari analysi', 'actual perceiv motor compet mediat relationship physic fit technic skill perform young soccer player', 'acut hormon respons kettlebel swing exercis differ depend load even total work normal', 'associ selfreport sleep durat mortal employ individu systemat review metaanalysi', 'blood cancer care resourc limit set outbreak singl center experi sri lanka', 'british soccer academi personnel perceiv psycholog technicaltact attribut import contributor develop', 'chang joint kinemat dynam postur stabil free restrict arm movement children', 'compar analysi report physic activ leisur centr member versu gener popul spain', 'crosscultur comparison fundament movement skill year old children england china', 'deliveri approach within exercis referr scheme survey current practic england', 'develop power athlet part practic applic', 'resist sled tow improv physic qualiti elit youth soccer player differ matur statu', 'dose respons effect bwf shuttl time programm children actual perceiv fundament movement skill compet', 'effect structur physic activ intervent evalu physic activ level adopt retent mainten adher rate systemat review metaanalysi', 'effect barbel load vertic jump land forcetim characterist', 'effect sex fatigu quiet stand dynam balanc lower extrem muscl stiff', 'enhanc implement sustain fundament movement skill intervent uk ireland lesson collect intellig engag stakehold', 'fundament movement skill profici among british primari school children analysi behavior compon level', 'fundament movement skill perceiv compet fit key factor associ technic skill perform boy play grassroot soccer', 'habitu caffein consumpt affect ergogen coffe ingest km cycl time trial', 'histon mrna subject uridyl readenyl aspergillu nidulan', 'way systemat review process evalu intervent improv gross motor compet', 'life lockdown role sport exercis physic activ amelior mental health implic restrict', 'optim load forc product straight bar deadlift forcetim characterist strengthtrain adult', 'physic profil intern cricket player investig bowler batter', 'predict children energi expenditur physic activ use deep learn wearabl sensor data', 'preschool fundament movement skill predict bmi physic activ sedentari behavior longitudin studi', 'preval factor relat urinari incontin older adult women worldwid comprehens systemat review metaanalysi observ studi', 'ration teacher role develop assess physic literaci children', 'skin anisotropi find optim incis line volar forearm male femal', 'step salsa cultur experienti account engag univers noncredit danc programm', 'strength condit practic perspect volleybal coach player', 'testretest reliabl soccer dribbl test children', 'determin lower critic concentr temperatur intrins viscos syneresi reaction polymer gel', 'doserespons relationship trainingload measur aerob fit elit academi soccer player', 'effect fatigu first stanc phase kinet acceler sprint run profession footbal player', 'effect high adipos concentr eccentr muscl perform upper lower limb musculatur young older adult', 'impact student attend assess specif perform sport degre program', 'influenc measur unit kingdom physic activ level perceiv physic function mood older adult surveybas observ studi', 'influenc recruit age anthropometr physic characterist develop pathway english academi footbal player', 'influenc urban food environ diet nutrit health outcom lowincom middleincom countri systemat review', 'preval practic caffein use ergogen aid english profession soccer caffein use profession soccer', 'transit featur uncook cook cowpea seed studi mechan compress test', 'understand player decisionmak process team sport systemat review empir evid', 'cognit mechan explor decis make univers profession rugbi union player competit match', 'feedforward approach teach learn assess undergradu sport scienc modul', 'affect respons supervis program resist exercis older adult', 'agerel chang isol mous skelet muscl function depend sex muscl contractil mode', 'agerel degener lumbar paravertebr muscl systemat review threelevel metaregress', 'anglespecif isokinet metric highlight strength train need elit youth soccer player', 'exercis referr scheme associ increas physic activ observ find use individu patient data metaanalysi nation referr databas', 'assess valid reliabl determin cutpoint actiwatch measur physic activ', 'associ selfreport sleep durat cardiometabol risk factor young africanorigin adult fivecountri model epidemiolog transit studi met', 'calibr crossvalid accelerometeri estim movement skill children age year', 'circadian oscil persist cervic esophag cancer cell display decreas express tumorsuppress circadian clock gene', 'cocain byproduct detect metal oxid semiconductor sensor array', 'contemporari practic strength condit coach profession soccer', 'cross valid actigraph deriv acceleromet cutpoint assess sedentari behaviour physic activ children age year', 'ctbase finit element analysi model effect trochanter soft tissu thick osteoporot proxim femur fractur sideway fall load configur', 'detect humic acid water use flatsheet foldedrod viscou alkalin glucos syrup', 'develop open technolog solut simul live lab environ research progress amidst pandem', 'develop power athlet part', 'lowerlimb kinemat kinet asymmetri transfer across sprint run countermov jump univers rugbi union player', 'effect exercis intens anticip time perform cycl task moder vigor intens children age year', 'firststanc phase forc contribut acceler sprint perform semiprofession soccer player', 'function variant associ risk acut musculoskelet soft tissu injuri', 'heatrel issu practic applic paralymp athlet tokyo', 'high intens interv train exerciseinduc physiolog chang potenti influenc metabol syndrom clinic biomark metaanalysi', 'impact passiv heat stress person spinal cord injuri implic olymp spectat', 'increas bone conduct vibrat reduc motion sick autom vehicl', 'individu vs groupbas strategi weight loss manag adult pen profil percept', 'indoor air pollut physic comfort paramet relat schoolchildren health data european sinphoni studi', 'interlimb step asymmetri close open skill sprint acceler soccer player', 'isometr midthigh pull characterist elit youth male soccer player comparison age matur offset', 'noninvas vivo assess cardiac metabol healthi diabet human heart use hyperpolar mri', 'observ key characterist exercis referr scheme unit kingdom deliveri approach current use england', 'prevent antibiot treatment calv emerg dysbiosi caus propag obes stateassoci mobil multidrug resistancecarri bacteria', 'profil movement behaviour preschool children selforganis map approach', 'rais digit profil facial palsi nation survey patient clinician experi chang uk treatment pathway view futur role digit technolog', 'resist train protocol promot strength increas without morpholog chang', 'rheolog tribolog sensori attribut texturemodifi food dysphagia patient elderli review', 'run jump throw catch profici children attend english school fundament motor skill identifi key within school curriculum', 'synthesi stabil biolog studi fluorin analogu thromboxan', 'effect primari school base badminton intervent children fundament movement skill', 'effect caffein ingest measur row perform systemat review metaanalysi', 'effect combin movement storytel intervent motor skill south asian white children age year live unit kingdom', 'effect stretch cryotherapi stretch heat stretch alon hamstr flexibl physic activ femal', 'effect turmer grain structur properti copper electrodeposit composit', 'impact highfat diet mice depend durat age differ muscl', 'impact rule modif player behaviour talent identif develop environ case studi rugbi footbal union wellington academi rugbi festiv', 'kinemat kinet develop sprint countermov jump perform boy', 'tpico em fisiologia e bioqumica com nfase exerccio e treinamento fsico', 'understand presenc mental fatigu english academi soccer player', 'use accelerometri classifi physic activ intens older adult optim wearsit', 'ventilatori chronotrop incompet increment constant load exercis endstag renal diseas compar physiolog studi', 'combin movement storytel intervent enhanc motor compet languag abil preschool greater extent movement storytel alon', 'comparison smartphon app gp track type devic employ footbal', 'age alter sever sunitinibinduc cardiotox investig mitogen activ kinas kinas pathway associ', 'alter wet properti orthopaed titanium alloy use laser shock peen', 'applic levitationjet synthes nickelbas nanoparticl ga sens', 'appli strengthsbas psychoeduc model rehabilit treatment intim partner violenc program theori logic model', 'rout sustain nickel composit electrodeposit use turmer new low nickel ion concentr electrolyt', 'asymmetri domin nondomin shoulder univers level men women volleybal player', 'augment realiti virtual patient clinic exercis prescript', 'caffein supplement powerlift competit evidencebas approach', 'arm movement improv postur stabil challeng stand balanc task', 'cardiac stun haemodialysi therapeut effect intradialyt exercis', 'cardiorespiratori coordin reveal trainingspecif physiolog adapt', 'cervic rang motion school age rugbi union player cross section studi', 'coffe ingest improv km cycl perform men women similar magnitud', 'critic evalu extrapol data rel antioxid function laboratori implic food product human health review', 'detect heterogen protein sacyl cell', 'chang cardiorespiratori fit result physic activ intervent impact academ perform execut function children adolesc systemat review metaanalysi metaregress', 'dietaryinduc obes old age impair contractil perform isol mous soleu extensor digitorum longu diaphragm skelet muscl', 'percept motor compet mediat associ motor compet physic activ earli year children', 'dynam postur control children arm lend leg help hand', 'editori fatigu recoveri footbal', 'editori cross adapt cross toler human health diseas', 'effect movement veloc train frequenc resist exercis function perform older adult randomis control trial', 'estim physic activ children age year use accelerometri contribut fundament movement skill differ acceleromet placement', 'evapor heat loss insuffici attain heat balanc rest individu spinal cord injuri high ambient temperatur', 'examin acceleromet valid estim physic activ preschool free live activ', 'examin effect exercis referr scheme chang physic activ level', 'examin presenc cronobact spp readytoeat edibl insect', 'exercis intensitydepend effect arm legcycl cognit perform', 'explor prepar practic teacher organis secondari school ski trip england wale', 'facial palsi therapi novel smart spectacl help peopl smile', 'higher educ outreach examin key challeng academ', 'hightemperatur synthesi nickelbas nanoparticl use materi sensor potenti hazard gase', 'investig dose respons relationship high fat diet consumpt contractil perform isol mous soleu edl diaphragm muscl', 'investig pedestrian height suv frontend height effect crash', 'isokinet strength differ elit senior youth femal soccer player identifi train requir', 'low dose caffein enhanc physic perform elit adolesc male soccer player', 'matern dietari pattern emphasi child growth pattern exclus breastfeed durat', 'morpholog alter mous skelet muscl earli age muscl specif', 'motion sick autom vehicl forward rearward face seat orient', 'motion sick predict devic autom vehicl', 'mrna level buffer upon knockdown rna decay translat factor via adjust transcript rate human cell', 'novel isokinet dynamometri thigh musculatur anterior cruciat ligament rehabilit profession soccer explor case studi', 'peertop teach experi year undergradu sport therapi student impact upon appli academ perform', 'preval overweight obes elementari school student vitria es', 'protein engin pseudomona fluorescen peroxidas oxid phenol polymer lignin substrat', 'research tracker acceleromet calibr valid comparison geneactiv actigraph ga analysi young adult', 'salsa danc perceiv mental health benefit servant leadership theorydriven studi', 'sequenc effect object control locomotor skill integr neuromuscular train year old children', 'antimicrobi efficaci hypoxia mimick cobalt oxid dope phosphatebas glass clinic relev gram posit gram neg bacteria fungal strain', 'effect absolut exercis intens core temperatur respons athlet spinal cord injuri', 'effect acut caffein ingest upper lower bodi anaerob exercis perform', 'effect acut caffein ingest upper bodi anaerob exercis cognit perform', 'effect lowvolum highintens interv train circuit train maxim oxygen uptak', 'futur develop pathway strength condit propos model uksca', 'influenc caffein expect simul soccer perform recreat individu', 'like effect thermal climat chang vertebr skelet muscl mechan possibl consequ anim movement behaviour', 'therapeut percept manag transplant athlet transplant game', 'reliabl valid barmount push bandtm bench press moder heavi load', 'thermoregul upper bodi exercis', 'tumour suppress role circadian clock', 'tiotropium bromid long act muscarin receptor antagonist trigger intracellular calcium signal heart', 'transplante athlet train characterist', 'ultrason prepar stabil thermal conduct cap copper methanol nanofluid', 'use theori understand barrier engag group offend behavior program', 'viewpoint adolesc overweight obes attend lifestyl obes treatment intervent qualit systemat review', 'comparison structur homebas rehabilit programm convent supervis pulmonari rehabilit randomis noninferior trial', 'gamifi mysterydriven approach facilit problem base learn postgradu strength condit modul', 'agerel chang natur killer cell respons season influenza vaccin influenc synbiot randomis control trial', 'evalu antimicrobi effect phytochem fraction prosopsi africana uvaria chama staphylococcu aureu pseudomona aeruginosa', 'new intervent model increas physic activ level fit centr base behaviour chang wheel', 'new procedur templat synthesi metal nanowir', 'exerciseinduc improv isol skelet muscl contractil affect performanceenhanc benefit mum caffein treatment', 'qualit exploratori studi nurs decisionmak interrupt medic administr within paediatr intens care unit', 'assess power', 'associ academ outreach evid submiss upp foundat civic univers commiss associ academ outreach', 'weekli structur physic activ program enhanc shortterm retent middleag adult fit centr user', 'cardiorespiratori perceptu respons selfregul impos submaxim armleg ergometri', 'cardiorespiratori fit activ explain obesitydepriv relationship children', 'carri heavi asymmetr load increas postur sway quiet stand older adult', 'chang direct technic model biomechan principl', 'children albin african region right', 'classif spinal cord injuri role thermoregul', 'coffe ingest enhanc run race perform', 'construct valid resist train skill batteri children age year', 'countdown game prepar', 'longchain fatti acid oxid essenti maintain glucagon secret pancreat islet', 'descript phenomenolog data collect sport psycholog research', 'effect zr addit corros ti acid reactiv oxygen speci roscontain environ', 'effect structur exercis intervent cholesterol', 'effect exercis referr scheme physic activ preliminari result', 'effect extern load postur sway quiet stanc adult age year', 'fatti acid prevent hypoxiainduc factor signal type diabet', 'forcetim characterist countermov jump analyz curv excel', 'fundament motor skill children depriv area england focu age gender ethnic', 'fundament movement skill children live england role ethnic nativ languag', 'hemodynam instabl dialysi potenti role intradialyt exercis', 'hydrophobicallymodifi chitosan nanoliposom intestin drug deliveri', 'ident develop premier leagu academi footbal', 'impact age synbiot immun respons season influenza vaccin randomis control trial', 'import propionibacterium acn hemolyt activ human intervertebr disc microbiolog studi', 'injuri surveil nonprofession salsa danc', 'investig transmiss tetw bifidobacteria expos acid bile stress', 'involv mitogen activ kinas kinas intracellular signal pathway sunitinibinduc cardiotox', 'make wave final report evalu make spread project', 'microbiota gut antibioticinduc dysbiosi advers effect human health', 'modul regulatori cell target protein protein interact', 'movement veloc high lowveloc resist exercis protocol older adult', 'defici select increas noncytotox oxid dna damag lung cancer cell bad news good', 'next day subject object recoveri indic follow acut low high train load academi rugbi union player', 'nickelbas nanoparticl carbon monoxid ga sens applic', 'pectin coat titanium polystyren surfac modul macrophag inflammatori respons', 'pheno highthroughput flexibl tool microorgan growth phenotyp solid media', 'physiolog respons treadmil run bodi weight support hypoxia compar normoxia', 'plyometr technic model biomechan principl', 'present commun result', 'quadriplegia challeng thermoregul', 'relationship motor compet physic activ obes british preschool age children', 'reliabl valid measur error', 'sacyl regul traffick stabil unconvent qsnare', 'season chang physic qualiti elit youth soccer player accord matur statu comparison age match control', 'selfperceiv actual motor compet young british children', 'sugar cocoa sweet synergi bitter antagon formul cocoa chocol product health narr review', 'acut physiolog effect high low veloc resist exercis older adult', 'characterist competit organ transplant athlet', 'effect increas age concentr eccentr contractil properti isol mous soleu extensor digitorum longu muscl', 'effect week integr neuromuscular train fundament movement skill physic selfefficaci year old children', 'effect exercis referr scheme unit kingdom cardiovascular mental health musculoskelet disord preliminari systemat review', 'effect low moder dose caffein supplement upper lower bodi maxim voluntari concentr eccentr muscl forc', 'effect obes skelet muscl contractil function', 'influenc caffein expect sport exercis cognit perform', 'perceptu respons highveloc lowload lowveloc highload resist exercis older adult', 'thermoregul follow spinal cord injuri', 'valid push band vertic jump perform', 'whole bodi precool attenu extracellular respons acut bout run heat', 'alter visual feedback condit impact postur sway perform children control bodi mass index habitu physic activ', 'antibiofilm activ prosopi africana uvaria chama extract preform biofilm clostridium difficil propionibacterium acn strain', 'attenu sunitinibinduc cardiotox adenosin receptor activ', 'autonom motiv mediat relat goal physic activ physic activ behavior adolesc', 'born albin africa', 'calibr geneactiv acceleromet wrist cutpoint assess physic activ intens preschool age children', 'carbohydr mouth rins improv morn highintens exercis perform', 'chang kinemat armleg coordin breaststrok swim', 'irish adolesc adequ function movement skill confid', 'effect cadenc locomotorrespiratori coupl upperbodi exercis', 'effect cool simul match play thermoregulatori respons athlet tetraplegia', 'erratum hfe mrna express respons intracellular extracellular iron load short commun molecular biolog report', 'heat hypox acclim increas monocyt heat shock protein attenu inflamm follow hypox exercis', 'hfe mrna express respons intracellular extracellular iron load short commun', 'injuri surveil femal adult zumba dancer', 'ergogen caffein affect increas age direct effect physiolog concentr caffein power output maxim stimul edl diaphragm muscl isol mous', 'live attenu influenza vaccin contain substanti unexpect amount defect viral genom rna', 'low fundament movement skill profici associ high bmi bodi fat girl boy age year old', 'modif ntype ptype semiconductor sensor devic secur applic', 'doserespons effect carbohydr mouth rins concentr km run perform recreat athlet', 'obesityinduc decreas muscl perform revers weight loss', 'object assess physic activ sedentari behaviour pregnanc portugues women differ weekday weekend', 'precool moder enhanc visual discrimin exercis heat', 'preschool staff parent percept preschool children physic activ fundament movement skill area high depriv qualit studi', 'protein gel', 'relationship measur physic fit chang age depend bia remov group young male soccer player', 'scale children waist circumfer differ bodi size', 'south asian children increas bodi fat comparison white children bodi mass index', 'support leg action contribut maxim instep soccer kick perform intervent studi', 'agerel associ movement irish adolesc youth', 'effect badminton specif exercis badminton short serv perform competit practic climat', 'effect obes contractil perform isol mous soleu edl diaphragm muscl', 'effect critic moment ident develop premier leagu academi footbal player', 'effect week voluntari wheel run contractil perform isol locomotori soleu respiratori diaphragm skelet muscl earli age', 'effect barbel load countermov vertic jump power net impuls', 'fate pollut laboratorybas perviou pave system', 'fate pollut porou asphalt pavement laboratori experi investig potenti impact environment health', 'influenc cycl intens upon cognit respons infer practic competit condit', 'thermodysregul person spinal cord injuri case seri use autonom standard', 'thermoregulatori repons competit wheelchair rugbi match play', 'uav oper mental workload neurophysiolog comparison mental workload vigil', 'valid reliabl modifi shuttl walk test older adult', 'viewpoint overweight obes adolesc attend lifestyl obes treatment intervent qualit systemat review', 'view overweight obes adolesc attend lifestyl treatment intervent qualit systemat review', 'whole grain cereal primari secondari prevent cardiovascular diseas cochran databas systemat review', 'activ energi disrupt gel network relat elast store energi finestrand ovalbumin gel', 'addit orang pomac orang juic attenu increas peak glucos insulin concentr sequenti meal ingest men elev cardiometabol risk', 'agreement forc platform method combin method measur power output load countermov jump', 'integr curriculum approach increas habitu physic activ depriv south asian children', 'antimicrobi activ select herbal extract propionibacterium acn caus agent skin acn lesion', 'coffe caffein ingest littl effect repeat sprint cycl rel untrain male', 'competit collabor use social gamifi onlin learn platform', 'cross acclim heat hypoxia heat acclim improv cellular toler exercis perform acut normobar hypoxia', 'doserespons pedomet assess physic activ function fit fat healthi adult age year', 'dual task perform older adult examin visual discrimin whilst treadmil walk prefer nonpref speed', 'effect microorgan x attenu circul superoxid dismutas follow acut bout intermitt run hot humid condit', 'effect synbiot respons season influenza vaccin strongli influenc degre immunosenesc', 'effect coffe caffein ingest resist exercis perform', 'evalu effect caffein sodium bicarbon ingest individu combin tastematch placebo highintens cycl capac healthi male', 'examin rel age effect fundament skill profici british children age year', 'exercis academ achiev children effect acut classbas circuit train', 'explor relationship exposur technolog gastrointestin stress probiot function properti lactobacilli bifidobacteria', 'flavanonerich citru beverag counteract transient declin postprandi endotheli function human randomis control doublemask crossov intervent studi', 'function symbolog evalu taskspecif headup display inform use commerci flight deck', 'hydrocarbon biodegrad hard infrastructur', 'letter editor concern prospect studi use anterior approach show associ modic chang low grade infect lumbar spine rigal j et al eur spine j apr', 'love build episod', 'love build episod', 'love build episod synopsi', 'match play demand versu profession footbal use global posit system track variat across common play format', 'measur saliva flow rate healthi young human influenc collect time mouthrins water temperatur', 'metal oxid semiconductor drug marker cigarett detect', 'monoterpen emiss young scot pine may influenc nutrient avail', 'morpholog differ habitat associ physiolog behaviour tradeoff stickleback gasterosteu aculeatu', 'multivari analys individu variat soccer skill tool talent identif develop utilis evolutionari theori sport scienc', 'orang pomac fibr increas composit score subject rate hunger full healthi adult', 'placebo effect caffein maxim voluntari concentr forc knee flexor extensor', 'prepar paralymp athlet environment concern heat acclim', 'relationship physic activ level bodi fat children age uk school low socioeconom area', 'report youth justic board studi effect restraint posit lung function', 'salsa danc zumba fit acut respons communitybas class', 'scale waist girth differ bodi size reveal new improv index associ cardiometabol risk', 'effect exercis intens cognit perform short durat treadmil run', 'effect highintens cycl train postur sway stand rest fatigu condit healthi young adult', 'effect heat acclim protocol person spinal cord injuri', 'healthenhanc efficaci zumba fit randomis control studi', 'thyroid hormon influenc muscl mechan carp cyprinu carpio independ serca activ', 'toward blend digit physic learn context gamifi pervas approach', 'use geosynthet sustain drainag', 'valid phillip et al geneactiv acceleromet wrist cutpoint children age year old', 'water hold determin elast store energi proteinbas gel', 'comparison two commerci avail elisa method quantif human plasma heat shock protein rest exercis stress', 'evalu predict equat minut walk test healthi european adult age year', 'overview leucin metabolit alphaketoisocapro kic betahydroxibetamethyl butyr hmb skelet muscl function sport perform', 'aspergillu nidulan put role conserv activ site ribosom recycl end mrna tag', 'barrier access factor limit full particip children albin school northern malawi part', 'barrier access factor limit full particip children albin school northern malawi part', 'barrier access visual impair young peopl albin malawi attend school overview guidelin', 'carbohydr caffein mouth rins affect maximum strength muscular endur perform', 'coincid anticip time perform acut bout brisk walk older adult effect stimulu speed', 'perviou pavement realli need perviou surfac concept macropervi pavement sud devic', 'effect precool cool play wheelchair rugbi perform', 'effect home base pulmonari rehabilit programm physic activ patient chronic obstruct pulmonari diseas', 'effect carbohydr caffein ingest badminton perform', 'environment school influenc physic activ south asian children low socioeconom background qualit studi', 'etiolog musculoskelet injuri amateur breakdanc', 'evalu perviou macropervi pavement harvest system local landscap horticultur irrig', 'evalu effect wrap filter drain pipe geotextil pollut prevent respons rel larg oil releas', 'examin util threshold aerob fit relat rest blood pressur bmi portugues children', 'human monocyt heat shock protein respons acut hypox exercis day exercis heat acclim', 'infrar heat adjunct achiev vehicl occup thermal comfort', 'insulin resist women polycyst ovari syndrom optimis treatment implement vitro insulin resist organ cultur model', 'larger lacertid lizard speci produc higher expect iliotibiali muscl power output evolut muscl contractil mechan bodi size lacertid lizard', 'optim bodi size limblength ratio associ pb swim speed', 'percept wellb physic perform english elit youth footbal across season', 'region thermal specialis mammal temperatur affect power output core muscl peripher muscl adult mice mu musculu', 'step base physic activ guidelin preschoolag children', 'student percept experi problembas learn first year undergradu sport therapi', 'associ anthropometr variabl function movement screen score freestyl swim perform youth swimmer', 'effect caffein rhodiola rosea alon combin run perform men', 'effect ice vest precool skin blood flow rest exercis heat', 'effect sodium bicarbon supplement soccer specif condit test divis iii soccer player', 'impact ultramarathon circulatori endotoxin cytokin profil', 'impact schoolbas garden intervent intent behaviour relat fruit veget consumpt children', 'toward understand contribut seat heat cool occup thermal sensat comfort methodolog consider', 'isol skelet muscl experi tell us effect caffein exercis perform', 'antimicrobi treatment improv mycobacteri surviv nonpermiss growth condit', 'assess effect exposur environment stress function properti bifidobacterium animali ssp lacti', 'caspas inhibit via adenosin receptor new cardioprotect mechan myocardi infarct', 'combin triaxial accelerometri heart rate telemetri physiolog character latin danc nonprofession adult', 'efeito da ingesto de cafena sobr desempenho treinamento de fora', 'effect exercis intens perceiv exert multipl set bench press volit failur', 'fibril format pea protein subsequ gel format', 'love build episod', 'modif ovalbumin fructooligosaccharid consequ network morpholog mechan deform respons', 'perturb energi balanc hydrat statu ultraendur runner h ultramarathon', 'physic activ patient chronic obstruct pulmonari diseas', 'physiolog perceptu respons latin partner social danc', 'result space copd programm comparison pulmonari rehabilit programm month', 'abil store energi pea protein gel set network dimens smaller', 'impact ultramarathon salivari antimicrobi protein respons', 'use freeli avail open sourc tool silico screen chemic biolog', 'critic moment ident elit premier leagu academi footbal', 'address critiqu teasi framework invas speci risk assess', 'novel approach oral iron deliveri use ferrou sulphat load solid lipid nanoparticl', 'selfmanag programm activ cope educ space copd randomis noninferior trial pulmonari rehabilit popul', 'assess ergogen effect caffein supplement mood anticip time muscular strength older adult', 'compromis energi macronutri intak ultraendur runner multistag ultramarathon conduct hot ambient environ', 'critic moment ident elit premier leagu academi footbal', 'employ descript phenomenolog within sport psycholog research challeng encount resolut explor', 'evalu skelet muscl satellit cell activ rodent model depict muscl hypertrophi atrophi', 'kinemat adapt sprint acceler perform without constraint hold field hockey stick', 'modul gelat effici fibrillar spheric aggreg mean thiolat', 'oxid tertiari aminederivat surfac control protein adhes', 'palmitoyl traffick peripher membran protein', 'perform enhanc drug sport supplement resist train', 'polymorph variat within gene risk achil tendon patholog genet associ studi', 'salivari antimicrobi protein respons multistag ultramarathon competit conduct hot environment condit', 'structur function regul versican abund type proteoglycan extracellular matrix', 'water sodium intak habit statu ultraendur runner multistag ultramarathon conduct hot ambient environ observ field base studi', 'write lab report project sport exercis scienc', 'day heat acclim attenu monocyt respons follow acut hypox exposur human', 'cell cycl dna repair pathwayspecif effect apoptosi tumor suppress', 'critic moment elit premiership footbal think', 'candid antigen develop target therapi breast cancer', 'folliculin interact defici associ disord rhoa signal epitheli polar cytokinesi', 'gene variant predispos achil tendon injuri updat recent advanc', 'matrix metalloproteinas gene chromosom risk anterior cruciat ligament acl ruptur', 'method monitor train adolesc soccer player', 'modul regulatori cell target protein protein interact', 'plant health challeng sustain land use rural economi', 'sleep habit recoveri qualiti ultraendur runner multistag ultramarathon competit heat', 'teas apart alien speci risk assess framework best practic', 'effect physiolog concentr caffein power output maxim submaxim stimul mous edl fast soleu slow muscl', 'live experi elit homegrown footbal premier leagu academi descript phenomenolog explor', 'birt hoggdub syndromeassoci flcn mutat disrupt protein stabil', 'daili torpor reduc mass chang stress power output soleu edl muscl djungarian hamster phodopu sungoru', 'determin noninvas ornament plant build green list', 'candid antigen develop target therapi ovarian cancer', 'endoplasm reticulum local dhhc palmitoyltransferas mediat lysinebas sort signal', 'function interplay nucleas ku respons replicationassoci dna damag', 'fundament movement skill masteri british primari school children differ due gender school year', 'improv function movement screen score across month inseason strength condit train elit academi footbal player', 'injuri sport among children adolesc', 'maintain hamstr quadricep ratio elit academi soccer player strength condit programm', 'monocytederiv macrophag matur prolong hypoxia transcript upregul mrna', 'physic activ level schoolbas activ videogam intervent use gamerc power stepper british children', 'predomin cell infiltr coincid reciproc reduct regulatori cell follow prostat cryotherapi', 'rapd microsatellit transfer studi select speci prosopi section algarobia emphasi prosopi juliflora p pallida', 'therapeut target loss birthoggdub suppressor gene', 'use macrophag target therapeut adenoviru human prostat tumor', 'util acceleromet measur physic activ children attend obes treatment intervent', 'function variant within gene associ human rang motion', 'evalu schoolbas exergam intervent use gamerc power stepper bodi mass index physic activ school lunch break british primari school children', 'comparison peak power predict equat adolesc femal basketbal', 'compon transform growth factorbeta famili pathogenesi human achil tendon pathologya genet associ studi', 'concurr valid backward overhead medicin ball throw test explos power adolesc', 'novel immunotherapeut target melanoma', 'genotyp character brochothrix spp isol meat poultri fish', 'histon deacetylas inhibitor induc dna damag normal transform cell repair', 'impact olymp lift programm perform test elit footbal academi player', 'paradox postexercis respons acyl ghrelin leptin simul night shift', 'novel pyrrolobenzodiazepin dimer prodrug cross link dna exert highli potent antitumor activ', 'intracellular dynam protein palmitoyl', 'need continu monitor antibiot resist pattern clinic isol staphylococcu aureu london malta', 'relationship bodymass index balanc year old boy', 'use bioelectr imped analysi bia assess hydrat statu runner compet multistag ultramarathon conduct hot ambient environ', 'effect circuit train intervent bodi esteem bodi mass index british primari school children', 'genet risk factor musculoskelet soft tissu injuri', 'inhibit aquaporin water channel increas sensit prostat cancer cell cryotherapi', 'mainten dnadamag checkpoint requir dnadamageinduc mediat protein oligomer', 'model atm mutant protein missens chang confirm retain kinas activ', 'palmitoyl synapt vesicl fusion machineri', 'placebo effect caffein shortterm resist exercis failur', 'pulmonari rehabilit use space selfmanag programm activ cope educ manual home randomis control trial', 'twinarginin transloc tat system bacillu subtili display conserv mode complex organ similar substrat recognit requir', 'adenosin receptor protect myocardium via recruit cell surviv pathway', 'caspas inhibitor induc kinas mediat myocardi protect earli reperfus', 'children video game physic activ exploratori studi', 'common variant gene underli monogen hypertens hypotens blood pressur gener popul', 'epidemiolog communityacquir meticillinresist staphylococcu aureu obtain uk west midland region', 'fluid provis metabol respons soccerspecif exercis', 'immunodefici ataxia telangiectasia correl strongli presenc two null mutat ataxia telangiectasia mutat gene', 'muscl fatigu footbal matchplay', 'palmitoyl gate phosphorylationdepend regul bk potassium channel', 'pathogen atm mutat occur rare subset multipl myeloma patient', 'escherichia coli tatabc system bacillu subtili tatactyp system recognis three distinct target determin twinarginin signal peptid', 'uk epidem strain meticillinresist staphylococcu aureu clinic sampl malta', 'base consensu statement physic activ prevent chronic diseas', 'effect hand cool intermitt exercis perform heat', 'load carriag increas arteri haemoglobin oxygen satur inclin treadmil walk hypoxia', 'neutrophil activ uphil walk acut hypoxia equival', 'reduc uncompens heat stress bomb dispos eod suit laboratori base assess', 'target protein twinarginin transloc system bacteria chloroplast', 'detect repair intermedi vivo effect dna damag respons gene singlestrand dna accumul uncap telomer bud yeast', 'dissect compon humor immun respons elicit dna vaccin', 'interact transmembran domain lysi protein e bacteriophag bacteri translocas mray peptidylprolyl isomeras slyd', 'mrx protect telomer dna uncap telomer bud yeast mutant', 'structur regulatori subunit acetohydroxyacid synthas isozym iii escherichia coli', 'associ gene polymorph haplotyp ambulatori blood pressur gener popul', 'cancer risk mortal heterozyg atm mutat carrier', 'grade exercis test uphil walk studi', 'lacton synthesi activ sitedirect mutant extradiol catechol dioxygenas enzym', 'map major locu determin telomer length human', 'repeat puls oximetri hypox normox increment exercis', 'reproduc peak achiev cycl ergometri normoxia hypoxia', 'structur function complex form tuberculosi virul factor', 'acidbas catalysi extradiol catechol dioxygenas reaction mechan sitedirect mutagenesi escherichia coli mhpb', 'plasma membran target exocyt snare protein', 'effect cadenc upon excess postexercis oxygen consumpt upper bodi exercis', 'amino fatti acid harsh environ', 'effect acut hypocapn hypoxia circul leucocyt subset neutrophil activ plasma antioxid statu exercis normox', 'exercis hypoxia stress intens train altitud winter may lead immunodepress', 'function spatial segreg secretori vesicl pool accord vesicl age', 'ntermin domain regulatori subunit suffici complet activ acetohydroxyacid synthas iii escherichia coli', 'stress intens train altitud winter train desert', 'effect acut hypocapn hypoxia circul leucocyt subset neutrophil activ plasma antioxid statu exercis normox peak', 'efficaci semliki forest viru transduct bovin adren chromaffin cell analysi heterolog protein target distribut', 'exocytosi studi chromaffin cellfre system imag singlevesicl exocytosi chromaffin cellfre system use total intern reflect fluoresc microscopi', 'human leucocyt traffick function respons acut hypocapn hypoxia', 'regul rat element human breast cancer cell hypoxia anoxia role', 'acetohydroxyacid synthas propos structur regulatori subunit support evid mutagenesi', 'pick parallel plant circadian clock context', 'health intervent programm children albin special school south africa', 'health educ children albin zimbabw', 'human erythrocyt plasma amino acid concentr exercis', 'antitumour prodrug develop use cytochrom cyp mediat activ', 'nitroblu tetrazolium test use measur leukocyt activ cardiopulmonari bypass', 'develop walk test assess function capac nonanaem mainten dialysi patient', 'reduct metabol applic prodrug applic', 'coupl replicationtransl method kit protein synthesi', 'distribut oculocutan albin zimbabw', 'method prepar polypeptid cellfre translat system', 'molecular epidemiolog human rotavirus manipur genom analysi rotavirus long electropherotyp subgroup', 'rearrang gene group rotaviru combin point mutat affect trimer stabil', 'alter transcript factor mrna isol cultur rat hepatocyt suggest activ prolif mode underli dedifferenti', 'nucleotid sequenc gene chines lamb rotaviru evid new p type type viru', 'reconstruct bonebon marrow organ osteogenin bone morphogenet protein deminer bone matrix calvari defect adult primat', 'method prepar gene express cellfre system coupl transcriptiontransl', 'pathogen two porcin rotavirus differ vitro growth characterist gene', 'method prepar express gene cellfre system conjug transcriptiontransl', 'method prepar express gene cellfre system conjug transcriptiontransl']\n"
     ]
    }
   ],
   "source": [
    "#Stemming and removing stop words\n",
    "preprocessed_corpus=[]\n",
    "for i in processed_journal:\n",
    "    token_words=word_tokenize(i)\n",
    "    stem_words=[]\n",
    "    \n",
    "    for word in token_words:\n",
    "      \n",
    "        if word not in stopwords.words(\"english\"):\n",
    "            \n",
    "            if(word.isalpha()):\n",
    "                \n",
    "                stemmer = PorterStemmer()\n",
    "                stem_words.append(stemmer.stem(word))\n",
    "                doc=' '.join(stem_words)\n",
    "    \n",
    "    preprocessed_corpus.append(doc)\n",
    "\n",
    "print(preprocessed_corpus)"
   ]
  },
  {
   "cell_type": "code",
   "execution_count": 43,
   "metadata": {},
   "outputs": [],
   "source": [
    "#The result (matrix) will become a representation of the documents. \n",
    "#we can find the similarity between different documents based on the matrix. \n",
    "from sklearn.feature_extraction.text import TfidfVectorizer\n",
    "# Instantiate a TfidfVectorizer object\n",
    "vectorizer = TfidfVectorizer()\n",
    "# It fits the data and transform it as a vector\n",
    "X = vectorizer.fit_transform(preprocessed_corpus)\n",
    "# Convert the X as transposed matrix\n",
    "X = X.T.toarray()\n",
    "# Create a DataFrame and set the vocabulary as the index\n",
    "tfidf = pd.DataFrame(X, index=vectorizer.get_feature_names())"
   ]
  },
  {
   "cell_type": "code",
   "execution_count": 44,
   "metadata": {
    "scrolled": true
   },
   "outputs": [
    {
     "data": {
      "text/html": [
       "<div>\n",
       "<style scoped>\n",
       "    .dataframe tbody tr th:only-of-type {\n",
       "        vertical-align: middle;\n",
       "    }\n",
       "\n",
       "    .dataframe tbody tr th {\n",
       "        vertical-align: top;\n",
       "    }\n",
       "\n",
       "    .dataframe thead th {\n",
       "        text-align: right;\n",
       "    }\n",
       "</style>\n",
       "<table border=\"1\" class=\"dataframe\">\n",
       "  <thead>\n",
       "    <tr style=\"text-align: right;\">\n",
       "      <th></th>\n",
       "      <th>0</th>\n",
       "      <th>1</th>\n",
       "      <th>2</th>\n",
       "      <th>3</th>\n",
       "      <th>4</th>\n",
       "      <th>5</th>\n",
       "      <th>6</th>\n",
       "      <th>7</th>\n",
       "      <th>8</th>\n",
       "      <th>9</th>\n",
       "      <th>...</th>\n",
       "      <th>503</th>\n",
       "      <th>504</th>\n",
       "      <th>505</th>\n",
       "      <th>506</th>\n",
       "      <th>507</th>\n",
       "      <th>508</th>\n",
       "      <th>509</th>\n",
       "      <th>510</th>\n",
       "      <th>511</th>\n",
       "      <th>512</th>\n",
       "    </tr>\n",
       "  </thead>\n",
       "  <tbody>\n",
       "    <tr>\n",
       "      <th>abil</th>\n",
       "      <td>0.0</td>\n",
       "      <td>0.000000</td>\n",
       "      <td>0.0</td>\n",
       "      <td>0.0</td>\n",
       "      <td>0.0</td>\n",
       "      <td>0.000000</td>\n",
       "      <td>0.0</td>\n",
       "      <td>0.0</td>\n",
       "      <td>0.0</td>\n",
       "      <td>0.0</td>\n",
       "      <td>...</td>\n",
       "      <td>0.0</td>\n",
       "      <td>0.0</td>\n",
       "      <td>0.0</td>\n",
       "      <td>0.0</td>\n",
       "      <td>0.0</td>\n",
       "      <td>0.0</td>\n",
       "      <td>0.0</td>\n",
       "      <td>0.0</td>\n",
       "      <td>0.0</td>\n",
       "      <td>0.0</td>\n",
       "    </tr>\n",
       "    <tr>\n",
       "      <th>absolut</th>\n",
       "      <td>0.0</td>\n",
       "      <td>0.000000</td>\n",
       "      <td>0.0</td>\n",
       "      <td>0.0</td>\n",
       "      <td>0.0</td>\n",
       "      <td>0.000000</td>\n",
       "      <td>0.0</td>\n",
       "      <td>0.0</td>\n",
       "      <td>0.0</td>\n",
       "      <td>0.0</td>\n",
       "      <td>...</td>\n",
       "      <td>0.0</td>\n",
       "      <td>0.0</td>\n",
       "      <td>0.0</td>\n",
       "      <td>0.0</td>\n",
       "      <td>0.0</td>\n",
       "      <td>0.0</td>\n",
       "      <td>0.0</td>\n",
       "      <td>0.0</td>\n",
       "      <td>0.0</td>\n",
       "      <td>0.0</td>\n",
       "    </tr>\n",
       "    <tr>\n",
       "      <th>abund</th>\n",
       "      <td>0.0</td>\n",
       "      <td>0.000000</td>\n",
       "      <td>0.0</td>\n",
       "      <td>0.0</td>\n",
       "      <td>0.0</td>\n",
       "      <td>0.000000</td>\n",
       "      <td>0.0</td>\n",
       "      <td>0.0</td>\n",
       "      <td>0.0</td>\n",
       "      <td>0.0</td>\n",
       "      <td>...</td>\n",
       "      <td>0.0</td>\n",
       "      <td>0.0</td>\n",
       "      <td>0.0</td>\n",
       "      <td>0.0</td>\n",
       "      <td>0.0</td>\n",
       "      <td>0.0</td>\n",
       "      <td>0.0</td>\n",
       "      <td>0.0</td>\n",
       "      <td>0.0</td>\n",
       "      <td>0.0</td>\n",
       "    </tr>\n",
       "    <tr>\n",
       "      <th>academ</th>\n",
       "      <td>0.0</td>\n",
       "      <td>0.000000</td>\n",
       "      <td>0.0</td>\n",
       "      <td>0.0</td>\n",
       "      <td>0.0</td>\n",
       "      <td>0.000000</td>\n",
       "      <td>0.0</td>\n",
       "      <td>0.0</td>\n",
       "      <td>0.0</td>\n",
       "      <td>0.0</td>\n",
       "      <td>...</td>\n",
       "      <td>0.0</td>\n",
       "      <td>0.0</td>\n",
       "      <td>0.0</td>\n",
       "      <td>0.0</td>\n",
       "      <td>0.0</td>\n",
       "      <td>0.0</td>\n",
       "      <td>0.0</td>\n",
       "      <td>0.0</td>\n",
       "      <td>0.0</td>\n",
       "      <td>0.0</td>\n",
       "    </tr>\n",
       "    <tr>\n",
       "      <th>academi</th>\n",
       "      <td>0.0</td>\n",
       "      <td>0.000000</td>\n",
       "      <td>0.0</td>\n",
       "      <td>0.0</td>\n",
       "      <td>0.0</td>\n",
       "      <td>0.243868</td>\n",
       "      <td>0.0</td>\n",
       "      <td>0.0</td>\n",
       "      <td>0.0</td>\n",
       "      <td>0.0</td>\n",
       "      <td>...</td>\n",
       "      <td>0.0</td>\n",
       "      <td>0.0</td>\n",
       "      <td>0.0</td>\n",
       "      <td>0.0</td>\n",
       "      <td>0.0</td>\n",
       "      <td>0.0</td>\n",
       "      <td>0.0</td>\n",
       "      <td>0.0</td>\n",
       "      <td>0.0</td>\n",
       "      <td>0.0</td>\n",
       "    </tr>\n",
       "    <tr>\n",
       "      <th>...</th>\n",
       "      <td>...</td>\n",
       "      <td>...</td>\n",
       "      <td>...</td>\n",
       "      <td>...</td>\n",
       "      <td>...</td>\n",
       "      <td>...</td>\n",
       "      <td>...</td>\n",
       "      <td>...</td>\n",
       "      <td>...</td>\n",
       "      <td>...</td>\n",
       "      <td>...</td>\n",
       "      <td>...</td>\n",
       "      <td>...</td>\n",
       "      <td>...</td>\n",
       "      <td>...</td>\n",
       "      <td>...</td>\n",
       "      <td>...</td>\n",
       "      <td>...</td>\n",
       "      <td>...</td>\n",
       "      <td>...</td>\n",
       "      <td>...</td>\n",
       "    </tr>\n",
       "    <tr>\n",
       "      <th>young</th>\n",
       "      <td>0.0</td>\n",
       "      <td>0.276335</td>\n",
       "      <td>0.0</td>\n",
       "      <td>0.0</td>\n",
       "      <td>0.0</td>\n",
       "      <td>0.000000</td>\n",
       "      <td>0.0</td>\n",
       "      <td>0.0</td>\n",
       "      <td>0.0</td>\n",
       "      <td>0.0</td>\n",
       "      <td>...</td>\n",
       "      <td>0.0</td>\n",
       "      <td>0.0</td>\n",
       "      <td>0.0</td>\n",
       "      <td>0.0</td>\n",
       "      <td>0.0</td>\n",
       "      <td>0.0</td>\n",
       "      <td>0.0</td>\n",
       "      <td>0.0</td>\n",
       "      <td>0.0</td>\n",
       "      <td>0.0</td>\n",
       "    </tr>\n",
       "    <tr>\n",
       "      <th>youth</th>\n",
       "      <td>0.0</td>\n",
       "      <td>0.000000</td>\n",
       "      <td>0.0</td>\n",
       "      <td>0.0</td>\n",
       "      <td>0.0</td>\n",
       "      <td>0.000000</td>\n",
       "      <td>0.0</td>\n",
       "      <td>0.0</td>\n",
       "      <td>0.0</td>\n",
       "      <td>0.0</td>\n",
       "      <td>...</td>\n",
       "      <td>0.0</td>\n",
       "      <td>0.0</td>\n",
       "      <td>0.0</td>\n",
       "      <td>0.0</td>\n",
       "      <td>0.0</td>\n",
       "      <td>0.0</td>\n",
       "      <td>0.0</td>\n",
       "      <td>0.0</td>\n",
       "      <td>0.0</td>\n",
       "      <td>0.0</td>\n",
       "    </tr>\n",
       "    <tr>\n",
       "      <th>zimbabw</th>\n",
       "      <td>0.0</td>\n",
       "      <td>0.000000</td>\n",
       "      <td>0.0</td>\n",
       "      <td>0.0</td>\n",
       "      <td>0.0</td>\n",
       "      <td>0.000000</td>\n",
       "      <td>0.0</td>\n",
       "      <td>0.0</td>\n",
       "      <td>0.0</td>\n",
       "      <td>0.0</td>\n",
       "      <td>...</td>\n",
       "      <td>0.0</td>\n",
       "      <td>0.0</td>\n",
       "      <td>0.0</td>\n",
       "      <td>0.0</td>\n",
       "      <td>0.0</td>\n",
       "      <td>0.0</td>\n",
       "      <td>0.0</td>\n",
       "      <td>0.0</td>\n",
       "      <td>0.0</td>\n",
       "      <td>0.0</td>\n",
       "    </tr>\n",
       "    <tr>\n",
       "      <th>zr</th>\n",
       "      <td>0.0</td>\n",
       "      <td>0.000000</td>\n",
       "      <td>0.0</td>\n",
       "      <td>0.0</td>\n",
       "      <td>0.0</td>\n",
       "      <td>0.000000</td>\n",
       "      <td>0.0</td>\n",
       "      <td>0.0</td>\n",
       "      <td>0.0</td>\n",
       "      <td>0.0</td>\n",
       "      <td>...</td>\n",
       "      <td>0.0</td>\n",
       "      <td>0.0</td>\n",
       "      <td>0.0</td>\n",
       "      <td>0.0</td>\n",
       "      <td>0.0</td>\n",
       "      <td>0.0</td>\n",
       "      <td>0.0</td>\n",
       "      <td>0.0</td>\n",
       "      <td>0.0</td>\n",
       "      <td>0.0</td>\n",
       "    </tr>\n",
       "    <tr>\n",
       "      <th>zumba</th>\n",
       "      <td>0.0</td>\n",
       "      <td>0.000000</td>\n",
       "      <td>0.0</td>\n",
       "      <td>0.0</td>\n",
       "      <td>0.0</td>\n",
       "      <td>0.000000</td>\n",
       "      <td>0.0</td>\n",
       "      <td>0.0</td>\n",
       "      <td>0.0</td>\n",
       "      <td>0.0</td>\n",
       "      <td>...</td>\n",
       "      <td>0.0</td>\n",
       "      <td>0.0</td>\n",
       "      <td>0.0</td>\n",
       "      <td>0.0</td>\n",
       "      <td>0.0</td>\n",
       "      <td>0.0</td>\n",
       "      <td>0.0</td>\n",
       "      <td>0.0</td>\n",
       "      <td>0.0</td>\n",
       "      <td>0.0</td>\n",
       "    </tr>\n",
       "  </tbody>\n",
       "</table>\n",
       "<p>1853 rows × 513 columns</p>\n",
       "</div>"
      ],
      "text/plain": [
       "         0         1    2    3    4         5    6    7    8    9    ...  503  \\\n",
       "abil     0.0  0.000000  0.0  0.0  0.0  0.000000  0.0  0.0  0.0  0.0  ...  0.0   \n",
       "absolut  0.0  0.000000  0.0  0.0  0.0  0.000000  0.0  0.0  0.0  0.0  ...  0.0   \n",
       "abund    0.0  0.000000  0.0  0.0  0.0  0.000000  0.0  0.0  0.0  0.0  ...  0.0   \n",
       "academ   0.0  0.000000  0.0  0.0  0.0  0.000000  0.0  0.0  0.0  0.0  ...  0.0   \n",
       "academi  0.0  0.000000  0.0  0.0  0.0  0.243868  0.0  0.0  0.0  0.0  ...  0.0   \n",
       "...      ...       ...  ...  ...  ...       ...  ...  ...  ...  ...  ...  ...   \n",
       "young    0.0  0.276335  0.0  0.0  0.0  0.000000  0.0  0.0  0.0  0.0  ...  0.0   \n",
       "youth    0.0  0.000000  0.0  0.0  0.0  0.000000  0.0  0.0  0.0  0.0  ...  0.0   \n",
       "zimbabw  0.0  0.000000  0.0  0.0  0.0  0.000000  0.0  0.0  0.0  0.0  ...  0.0   \n",
       "zr       0.0  0.000000  0.0  0.0  0.0  0.000000  0.0  0.0  0.0  0.0  ...  0.0   \n",
       "zumba    0.0  0.000000  0.0  0.0  0.0  0.000000  0.0  0.0  0.0  0.0  ...  0.0   \n",
       "\n",
       "         504  505  506  507  508  509  510  511  512  \n",
       "abil     0.0  0.0  0.0  0.0  0.0  0.0  0.0  0.0  0.0  \n",
       "absolut  0.0  0.0  0.0  0.0  0.0  0.0  0.0  0.0  0.0  \n",
       "abund    0.0  0.0  0.0  0.0  0.0  0.0  0.0  0.0  0.0  \n",
       "academ   0.0  0.0  0.0  0.0  0.0  0.0  0.0  0.0  0.0  \n",
       "academi  0.0  0.0  0.0  0.0  0.0  0.0  0.0  0.0  0.0  \n",
       "...      ...  ...  ...  ...  ...  ...  ...  ...  ...  \n",
       "young    0.0  0.0  0.0  0.0  0.0  0.0  0.0  0.0  0.0  \n",
       "youth    0.0  0.0  0.0  0.0  0.0  0.0  0.0  0.0  0.0  \n",
       "zimbabw  0.0  0.0  0.0  0.0  0.0  0.0  0.0  0.0  0.0  \n",
       "zr       0.0  0.0  0.0  0.0  0.0  0.0  0.0  0.0  0.0  \n",
       "zumba    0.0  0.0  0.0  0.0  0.0  0.0  0.0  0.0  0.0  \n",
       "\n",
       "[1853 rows x 513 columns]"
      ]
     },
     "execution_count": 44,
     "metadata": {},
     "output_type": "execute_result"
    }
   ],
   "source": [
    "tfidf"
   ]
  },
  {
   "cell_type": "code",
   "execution_count": 106,
   "metadata": {
    "scrolled": true
   },
   "outputs": [
    {
     "name": "stdout",
     "output_type": "stream",
     "text": [
      "Enter topic for searchingcomparison physical activity homebased centrebased pulmonary rehabilitation randomised controlled secondary analysis\n",
      "['comparison physic activ homebas centrebas pulmonari rehabilit randomis control secondari analysi']\n",
      "(1853,)\n"
     ]
    }
   ],
   "source": [
    "q1 = input(\"Enter topic for searching\")\n",
    "preprocessed_query=[]\n",
    "#for i in q1:\n",
    "    \n",
    "token_words=word_tokenize(q1.lower())\n",
    "stem_words=[]\n",
    "\n",
    "for word in token_words:\n",
    "\n",
    "    if word not in stopwords.words(\"english\"):\n",
    "\n",
    "        if(word.isalpha()):\n",
    "\n",
    "            stemmer = PorterStemmer()\n",
    "            stem_words.append(stemmer.stem(word))\n",
    "            doc=' '.join(stem_words)\n",
    "\n",
    "preprocessed_query.append(doc)\n",
    "\n",
    "print(preprocessed_query)\n",
    "#q1 = [q1]\n",
    "q_vec = vectorizer.transform(preprocessed_query).toarray().reshape(tfidf.shape[0],)\n",
    "print(q_vec.shape)"
   ]
  },
  {
   "cell_type": "code",
   "execution_count": 107,
   "metadata": {
    "scrolled": true
   },
   "outputs": [
    {
     "name": "stdout",
     "output_type": "stream",
     "text": [
      "[1.0000000000000002, 0.03727147319390143, 0.14163577233611127, 0.08386702540794326, 0.0358584779784148, 0.11842559678575772, 0.08487491228397132, 0.06800471135253998, 0.041333665655874784, 0.0686505456063959, 0.07279117726836284, 0.045308273723422034, 0.09573868359111012, 0.03915359009088743, 0.056488556394497194, 0.08342414179490266, 0.06745742579026248, 0.0592823886221481, 0.031763911427963816, 0.06804676881813322, 0.04999644271343618, 0.07863937778708498, 0.07462919355400191, 0.028793169511915642, 0.06808897749908431, 0.06156954723164733, 0.06601706895342148, 0.07811627780806091, 0.1627991006870629, 0.06866158814395733, 0.11394981352358347, 0.09562780194540811, 0.10649529753332114, 0.04380665878267491, 0.07199011705481205, 0.1507642477052811, 0.074530138131693, 0.47848346224252214, 0.13967265236354912, 0.07137349955323873, 0.06346888801117333, 0.04263007000570666, 0.09577817137147733, 0.16313499755257435, 0.03231066283755772, 0.030011761848979177, 0.08854277150377776, 0.17355043959158575, 0.037971584957507215, 0.12999391885641778, 0.025476230303419535, 0.04424920001807544, 0.13894003896763393, 0.07378132294042643, 0.06562732325308421, 0.05879384657591915, 0.03526665620133847, 0.07001436562358723, 0.059299837952348965, 0.10269840417732697, 0.026221020430256634, 0.07403901146236877, 0.026354276882665513, 0.07664697863922314, 0.11851259626062023, 0.07241353640727079, 0.19776952184532362, 0.030200851251289997, 0.037991730024243435, 0.06375064317486671, 0.027857958455840385, 0.306858926770661, 0.06977091187826377, 0.04147177648195836, 0.09400561984834525, 0.2145795209328353, 0.25079253949255464, 0.2619453277870722, 0.029867582118029996, 0.08644423636887659, 0.10203093601056709, 0.08492379540779767, 0.052355847947657366, 0.084890876066085, 0.028099489554963084, 0.06990371288084223, 0.03355614811997047, 0.3242140591101352, 0.0969991077168599, 0.0823239418439598, 0.04192641772473419, 0.03283617694591477, 0.030256006619272767, 0.028756648698506034, 0.029023060643110186, 0.0686168804185792, 0.03786158719965147, 0.03422083205946322, 0.06994955911923935, 0.026936861029970265]\n"
     ]
    }
   ],
   "source": [
    "import math\n",
    "\n",
    "def calc_inner(v1, v2): # receives two vectors of the same length as lists and returns their inner product\n",
    "    ans = 0\n",
    "    for i in range(len(v1)):\n",
    "        ans += v1[i]*v2[i]\n",
    "    return ans\n",
    "\n",
    "def calc_length(v): # receives a vector as a list and returns its length\n",
    "    tmp = 0\n",
    "    for x in v:\n",
    "        tmp += x**2\n",
    "    #Alternativelt, instead of the above loop, you may write tmp = calc_inner(v,v).\n",
    "    return math.sqrt(tmp)\n",
    "\n",
    "def calc_cosine(v1,v2): # receives two vectors of the same length as lists and returns their cosine similarity\n",
    "    return calc_inner(v1,v2) / (calc_length(v1)*calc_length(v2))\n",
    "v0 = q_vec\n",
    "\n",
    "k=[]\n",
    "for v in range(0,512):\n",
    "    x=calc_cosine(v0, tfidf[v])\n",
    "    if(x>0.0):\n",
    "    \n",
    "        k.append(x)\n",
    "    \n",
    "\n",
    "print(k)\n"
   ]
  },
  {
   "cell_type": "code",
   "execution_count": 108,
   "metadata": {},
   "outputs": [
    {
     "name": "stdout",
     "output_type": "stream",
     "text": [
      "[(1.0000000000000002, 0), (0.47848346224252214, 37), (0.3242140591101352, 87), (0.306858926770661, 71), (0.2619453277870722, 77), (0.25079253949255464, 76), (0.2145795209328353, 75), (0.19776952184532362, 66), (0.17355043959158575, 47), (0.16313499755257435, 43), (0.1627991006870629, 28), (0.1507642477052811, 35), (0.14163577233611127, 2), (0.13967265236354912, 38), (0.13894003896763393, 52), (0.12999391885641778, 49), (0.11851259626062023, 64), (0.11842559678575772, 5), (0.11394981352358347, 30), (0.10649529753332114, 32)]\n"
     ]
    }
   ],
   "source": [
    "a= (sorted( [(x,i) for (i,x) in enumerate(k)], reverse=True ) [:20] )\n",
    "print(a)"
   ]
  },
  {
   "cell_type": "code",
   "execution_count": 105,
   "metadata": {},
   "outputs": [
    {
     "name": "stdout",
     "output_type": "stream",
     "text": [
      "No related journal found\n"
     ]
    }
   ],
   "source": [
    "if(a==[]):\n",
    "    print(\"No related journal found\")\n",
    "else:\n",
    "    for i in range(len(a)):\n",
    "        x=a[i][1]\n",
    "        \n",
    "        print(\"Title of Paper:\",df.iloc[x,2])\n",
    "        print(\"Link of Paper:\",df.iloc[x,3])\n",
    "        print(\"Date of Paper Published:\",df.iloc[x,4])\n",
    "        print(\"Author names:\",df.iloc[x,0])\n",
    "        print(\"Link to Author Profiles:\",df.iloc[x,1])\n",
    "        print(\"---------------------------------------\")\n"
   ]
  },
  {
   "cell_type": "markdown",
   "metadata": {},
   "source": [
    "# Task-2: Document Clustering"
   ]
  },
  {
   "cell_type": "code",
   "execution_count": null,
   "metadata": {},
   "outputs": [],
   "source": [
    "pip install feedparser"
   ]
  },
  {
   "cell_type": "code",
   "execution_count": 109,
   "metadata": {},
   "outputs": [
    {
     "name": "stdout",
     "output_type": "stream",
     "text": [
      "144\n",
      "['The Labour MP accuses the government of stoking a culture war that will harm anyone \"slightly different\".', 'The south-east London election was prompted by the death of former MP James Brokenshire.', 'But government ministers are accused of giving mixed messages on events over the festive period.', 'Alex Bourne says the former health secretary had no involvement is his company winning NHS work.', 'Grenfell survivors and government minister Michael Gove criticise the F1 team over a sponsorship deal.', 'Maroš Šefčovič says it is \"time to get medicines across the finish line\" but again no deal is struck.', 'The Barking MP held ministerial posts and chaired the powerful Public Accounts Committee.', 'Sir Desmond Swayne raises concerns about changes to the code of conduct governing MPs behaviour.', 'The addresses of more than 1,000 people, including Sir Elton John and Gabby Logan, were shared online.', 'The government acted too slowly to stop fraudsters exploiting the Covid loan scheme, a report says.', 'Reports suggesting a US decision to maintain tariffs on UK steel is linked to Brexit are rejected.', \"Sir Jeffrey Donaldson says Covid is no joking matter in response to Sammy Wilson's tweet.\", 'Lord McKenzie of Luton has been described as \"one of the town’s most ardent servants\".', 'Sir Richard Leese has stepped down from the role of Manchester City Council leader after 25 years.', 'Three Conservatives, including ex-leader Sir Iain Duncan Smith, give up paid roles advising firms.', 'The empty brown fields of winter countryside could be transformed under new land subsidy rules for England.', 'A bereaved families group calls for an apology from Boris Johnson over lockdown gathering.', 'Prime Minister Boris Johnson has described the footage filmed on Oxford Street as \"disturbing\".', 'People should try to reduce Covid transmission so we can all enjoy Christmas \"knees up\", Therese Coffey says.', 'The NI Secretary Brandon Lewis suggests the government will not introduce legislation imminently.', 'The new target is unveiled in response to concerns raised by a committee of MPs.', 'The Conservative Party chairman tells people \"keep calm and carry on with their plans\" for Christmas.', 'Labour MP Chris Bryant says the direction taken by some in government makes him feel less safe.', 'Ros Atkins investigates a Christmas party at Downing Street in the midst of 2020 Covid restrictions.', 'The public wants a government that \"that sticks to the rules\" over gatherings after a party was held in Downing Street in lockdown, says Labour.', 'The prime minister says that Christmas 2021 will be \"considerably better than Christmas last year\".', 'As the government publishes detailed plans for social-care funding, BBC News asks carers and clients whether the changes are sufficient.', 'Nicola Sturgeon still aims to deliver independence - but is her legacy as first minister secure even without it?', 'MPs face tighter rules on second jobs - but what about lobbying through all-party groups?', \"MPs have backed government plans to reform social care in England, but some say they don't go far enough.\", 'Rising numbers of migrants are trying to cross the English Channel in small boats.', 'The NHS, agriculture, universal credit and sleaze are all on the agenda for local voters.', 'People in the North Shropshire constituency head to the polls on 16 December to elect an MP.', 'Boris Johnson is proposing to ban MPs from acting as paid political consultants - Labour is also calling for a ban.', 'The changes made at COP26 in Glasgow could have implications for the way we live.', 'A Labour council is trying to do something different to boost its area - and Westminster is watching.', 'The Indian-born chemical engineer who overcame racism to win over his Teesside constituents.', \"It's a catch-all term for scandal - and the opposition parties are trying to pin it on Boris Johnson.\", 'Many students say they back staff walkouts over pay and pensions - but others worry about more turmoil.', 'The latest school attendance figures show another spike in pupil Covid rates.', 'Staff at dozens of universities are striking this week.', 'Ministers want to make sure education settings in England are safe amid fears about a new variant.', 'Secondary schools in England are asked to prepare to carry out initial tests on-site, as in September.', 'Leading academics see Paulo Freire as a symbol of \"tolerance and dialogue\" amid tensions on campuses.', 'A Nottingham city councillor suggests a shake-up of the \"punitive culture\" at schools in the city.', 'Mark Lemon, whose dad was murdered, encourages young people to write a letter to their younger self.', 'Mark Drakeford says radical change is needed as the academic year dates back to the 19th Century.', 'A new drive to get universities to help disadvantaged students via tough targets is announced.', 'English universities begin programmes to attract more ethnic minority students into research.', \"Samantha Price wants parents and teachers to keep up with the younger generation's views.\", 'The app connects people, with similar interests, using an algorithm.', 'More than a hundred children are living in hotels because of a shortage of places in care homes.', 'The figure for England would represent a 36% rise in a decade, research for county councils says.', 'Parents must be allowed to buy some items from High Street shops and second-hand from next year.', 'All schools and colleges are to be inspected over next four years to judge recovery after the pandemic.', 'Education Secretary Nadhim Zahawi says it would be \"wrong to push too hard\" on its timetable.', 'Abigail Chase has helped many pupils in her career, including BBC Wales journalist Tyler Edwards.', 'Charities and doctors say online and school pressures mean more teens have mental health issues.', 'Covid has led to an increase in parenting gurus using social media to support new mums and dads.', \"One man's efforts running a Stalybridge food bank are helping to ensure children are not going hungry.\", 'How are schools managing with Covid, a month into the new term?', 'Parents and teachers seem to agree it is the number one innovation worth keeping post-lockdown.', 'Brighten up your accommodation, make friends and cook nicer meals with these handy items.', 'Some Kenyans try to escape poverty by helping foreign students to fake their academic work.', 'Many Covid restrictions have been lifted for students going to university this term.', 'Parents have contrasting feelings as safety measures in schools are eased at the start of the new year.', \"It's been a stressful few months for the thousands of young people waiting for their exam results.\", \"Teachers have decided their pupils' grades after Covid cancelled exams for a second year.\", 'Teenagers will receive their GCSE results on 12 August.', \"A mother and a father reveal their shock at learning of their children's experiences of online sex.\", 'Remote working meant the Lancaster family could live anywhere - they found their sea view in Scarborough.', \"Support charities say male victims of sexual assault sometimes feel their experiences don't count.\", \"A year on from Marcus Rashford's successful campaign, what is the current situation?\", 'Students are angry at paying full fees with so little in-person teaching, says report.', 'What happens if a housemate tests positive for Covid just as you were about to move out?', 'White pupils from low income families are falling behind \"every step of the way\", an education committee says.', \"Pupils' plans to celebrate with their friends have been hit by continuing lockdown restrictions.\", \"When all Uganda's schools closed due to the pandemic, nine-year-old Teddy joined her mother mining for gold.\", 'More than a quarter of a million children are absent from school in the UK because of coronavirus.', 'Ex-pupils caught up in the infected blood scandal decades ago are giving evidence at an inquiry.', 'Caitríona Lagan is a 15-year-old All-Ireland champion musician who plays five instruments.', 'Secondary pupils in England and Wales are being asked to start wearing masks in school again.', 'New Welsh government rules are expected to be adopted by schools by 20 September at the latest.', 'As the first schools in England start back, the BBC asks if this is a return to normal.', 'With the virus surging, we re-examine the new isolation rules and ask whether schools can ask pupils to stay at home.', 'Schools, colleges and universities in Wales are promised air monitors and ozone disinfecting machines.', 'Parents are concerned that a law to make school uniforms cheaper will not be in place for September.', 'Social mobility campaigner Sir Peter Lampl worries about the lack of fair opportunity for young people.', 'With more pupils sent home from school in England, there are calls for a different approach to Covid cases.', 'Rapid increase in pupils out of school in England as changes expected for self-isolation rules.', 'All pupils in P4 will be entitled to a school meal from August, while P5s will be offered lunches by January.', 'England\\'s school recovery commissioner Sir Kevan Collins quits, saying the funding \"falls far short\".', 'Boris Johnson defends £1.4bn tutoring school catch-up plan after heads left \"hugely disappointed\".', \"Face coverings will not be needed in England's secondary classrooms from 17 May, says the prime minister.\", 'The gap between poor pupils and their classmates is unlikely to narrow without intervention, researchers say.', 'The second year of results after cancelled exams sees the highest level of A* and A grades at A-level.', 'The former school recovery tsar warns of growing educational inequality as a result of the pandemic.', 'A letter signed by women from 15 universities calls for a compulsory policy for sex assault claims.', 'Twin brothers from east London gain places at Oxford and Cambridge after achieving top A-level grades.', '\"It\\'s still a good year for clearing,\" says the admissions service boss, ahead of results day next week.', 'A student petition calls it \"ridiculous\" as some UK universities keep lectures online for next term.', 'Ministers are no longer considering making two doses mandatory for students in England, the BBC learns.', 'Gavin Williamson says 2022 A-levels and GCSEs in England are likely to be modified for lost lessons.', 'The announcement comes amid criticism of the SQA over plans put in place to replace school exams this year.', 'A gene editing technique may prevent the slaughter of animals not needed by the livestock industry.', 'Ministers are told they must agree tougher policies to get the UK on track to meet goals set at COP26.', 'The oil giant said the economic case for investment in the controversial project was \"not strong enough\".', 'The empty brown fields of winter countryside could be transformed under new land subsidy rules for England.', 'Scientists say they have made a major step forward in storing information in molecules of DNA.', \"The 2021 Atlantic hurricane season has now officially ended, and it's been the third most active on record.\", 'Ethics experts publish a report as the government considers whether to allow gene-edited farm animals.', 'The number of cyclists being killed on rural English roads rose sharply over the last year.', 'Olaf Scholz will head a three-party coalition with broad plans for transition to a green economy.', 'A host of firms are developing mini nuclear reactors but questions remain over safety and costs.', 'Over decades, correspondent David Shukman has seen climate change become our most important issue.', 'Experts say hydrofluorocarbons, which are used in fridges and aerosols, make global warming worse.', 'The climate pattern can lead to significant weather changes in different parts of the world.', 'The climate claims that went viral – and what you need to know about them.', 'What are the practical things countries need to do in order to tackle climate change?', 'Despite green energy investment promises, many governments still financially back the fossil fuel industry.', 'A crucial climate change summit has been held in the UK which could change our lives.', 'A report has suggested the carbon footprint of the Glasgow summit is more than double that of COP25.', 'The changes made at COP26 in Glasgow could have implications for the way we live.', 'A spacecraft has started its journey as it aims to deliberately nudge an asteroid off course.', 'With a similar landscape to other worlds, it could aid research into extra-terrestrial missions.', 'Russia has destroyed one of its own satellites in orbit, prompting international condemnation.', 'The first Nasa mission to return to the surface of the Moon has been delayed by one year to 2025.', 'By mimicking the way lobsters’ eyes work, scientists have designed new X-ray space telescopes that can survey much larger areas.', 'Astronomers have found hints of what could be the first planet ever to be discovered outside our galaxy.', 'His space company Blue Origin hopes its venture will replace the International Space Station.', \"Nasa's next-generation spaceship is attached to the rocket that will launch it to the Moon.\", 'Nasa has asked the private sector to design new spacesuits that can be used on the Moon.', 'English universities begin programmes to attract more ethnic minority students into research.', 'The CubeSat began as an educational tool but is now helping out humanity', 'The company unveils an advanced \"quantum\" processor that\\'s part of an effort to build super-fast computers.', 'Andrew Budziak spends his nights photographing the animals of Toronto, Canada.', \"Yu Kongjian's sponge city, based on ancient Chinese wisdom, seeks to change how we deal with floods.\", 'Unprecedented drought and heat, combined with bad land management, have culminated in historic wildfires.', 'Hull has been at COP26 to share its innovative approach to tackling flood threats with the world.', 'Firms often claim they are eco-friendly but how can you check they are as green as they make out?', \"Cape Town, on South Africa's coast, was the first global city to come close to running out of water.\", 'A photographer is using her art to inspire, hoping to keep the iconic animals at home on the range.', 'The BBC’s Roger Harrabin takes a look at the tech behind hydrogen energy and its green potential.', 'A new chapter in physics is here, says a team that hunted for a key building block of the Universe.']\n"
     ]
    }
   ],
   "source": [
    "import feedparser\n",
    "text=[]\n",
    "\n",
    "Politics = feedparser.parse(\"http://feeds.bbci.co.uk/news/politics/rss.xml\")\n",
    "Education = feedparser.parse(\"http://feeds.bbci.co.uk/news/education/rss.xml\")\n",
    "Science = feedparser.parse(\"http://feeds.bbci.co.uk/news/science_and_environment/rss.xml\")\n",
    "\n",
    "for i in Politics.entries:\n",
    "    x= i.summary\n",
    "    text.append(x)\n",
    "\n",
    "for i in Education.entries:\n",
    "    x= i.summary\n",
    "    text.append(x)\n",
    "\n",
    "for i in Science.entries:\n",
    "    x= i.summary\n",
    "    text.append(x)\n",
    "\n",
    "print(len(text))\n",
    "print(text)"
   ]
  },
  {
   "cell_type": "code",
   "execution_count": 110,
   "metadata": {},
   "outputs": [
    {
     "name": "stdout",
     "output_type": "stream",
     "text": [
      "['labour mp accus govern stoke cultur war harm anyon slightli differ ', 'london elect prompt death former mp jame brokenshir ', 'govern minist accus give mix messag event festiv period ', 'alex bourn say former health secretari involv compani win nh work ', 'grenfel survivor govern minist michael gove criticis team sponsorship deal ', 'maroš šefčovič say time get medicin across finish line deal struck ', 'bark mp held ministeri post chair power public account committe ', 'sir desmond swayn rais concern chang code conduct govern mp behaviour ', 'address peopl includ sir elton john gabbi logan share onlin ', 'govern act slowli stop fraudster exploit covid loan scheme report say ', 'report suggest us decis maintain tariff uk steel link brexit reject ', 'sir jeffrey donaldson say covid joke matter respons sammi wilson tweet ', 'lord mckenzi luton describ one town ardent servant ', 'sir richard lees step role manchest citi council leader year ', 'three conserv includ sir iain duncan smith give paid role advis firm ', 'empti brown field winter countrysid could transform new land subsidi rule england ', 'bereav famili group call apolog bori johnson lockdown gather ', 'prime minist bori johnson describ footag film oxford street disturb ', 'peopl tri reduc covid transmiss enjoy christma knee theres coffey say ', 'ni secretari brandon lewi suggest govern introduc legisl immin ', 'new target unveil respons concern rais committe mp ', 'conserv parti chairman tell peopl keep calm carri plan christma ', 'labour mp chri bryant say direct taken govern make feel less safe ', 'ro atkin investig christma parti down street midst covid restrict ', 'public want govern stick rule gather parti held down street lockdown say labour ', 'prime minist say christma consider better christma last year ', 'govern publish detail plan fund bbc news ask carer client whether chang suffici ', 'nicola sturgeon still aim deliv independ legaci first minist secur even without ', 'mp face tighter rule second job lobbi group ', 'mp back govern plan reform social care england say go far enough ', 'rise number migrant tri cross english channel small boat ', 'nh agricultur univers credit sleaz agenda local voter ', 'peopl north shropshir constitu head poll decemb elect mp ', 'bori johnson propos ban mp act paid polit consult labour also call ban ', 'chang made glasgow could implic way live ', 'labour council tri someth differ boost area westminst watch ', 'chemic engin overcam racism win teessid constitu ', 'term scandal opposit parti tri pin bori johnson ', 'mani student say back staff walkout pay pension other worri turmoil ', 'latest school attend figur show anoth spike pupil covid rate ', 'staff dozen univers strike week ', 'minist want make sure educ set england safe amid fear new variant ', 'secondari school england ask prepar carri initi test septemb ', 'lead academ see paulo freir symbol toler dialogu amid tension campus ', 'nottingham citi councillor suggest punit cultur school citi ', 'mark lemon whose dad murder encourag young peopl write letter younger self ', 'mark drakeford say radic chang need academ year date back centuri ', 'new drive get univers help disadvantag student via tough target announc ', 'english univers begin programm attract ethnic minor student research ', 'samantha price want parent teacher keep younger gener view ', 'app connect peopl similar interest use algorithm ', 'hundr children live hotel shortag place care home ', 'figur england would repres rise decad research counti council say ', 'parent must allow buy item high street shop next year ', 'school colleg inspect next four year judg recoveri pandem ', 'educ secretari nadhim zahawi say would wrong push hard timet ', 'abigail chase help mani pupil career includ bbc wale journalist tyler edward ', 'chariti doctor say onlin school pressur mean teen mental health issu ', 'covid led increas parent guru use social media support new mum dad ', 'one man effort run stalybridg food bank help ensur children go hungri ', 'school manag covid month new term ', 'parent teacher seem agre number one innov worth keep ', 'brighten accommod make friend cook nicer meal handi item ', 'kenyan tri escap poverti help foreign student fake academ work ', 'mani covid restrict lift student go univers term ', 'parent contrast feel safeti measur school eas start new year ', 'stress month thousand young peopl wait exam result ', 'teacher decid pupil grade covid cancel exam second year ', 'teenag receiv gcse result august ', 'mother father reveal shock learn children experi onlin sex ', 'remot work meant lancast famili could live anywher found sea view scarborough ', 'support chariti say male victim sexual assault sometim feel experi count ', 'year marcu rashford success campaign current situat ', 'student angri pay full fee littl teach say report ', 'happen housem test posit covid move ', 'white pupil low incom famili fall behind everi step way educ committe say ', 'pupil plan celebr friend hit continu lockdown restrict ', 'uganda school close due pandem teddi join mother mine gold ', 'quarter million children absent school uk coronaviru ', 'caught infect blood scandal decad ago give evid inquiri ', 'caitríona lagan champion musician play five instrument ', 'secondari pupil england wale ask start wear mask school ', 'new welsh govern rule expect adopt school septemb latest ', 'first school england start back bbc ask return normal ', 'viru surg new isol rule ask whether school ask pupil stay home ', 'school colleg univers wale promis air monitor ozon disinfect machin ', 'parent concern law make school uniform cheaper place septemb ', 'social mobil campaign sir peter lampl worri lack fair opportun young peopl ', 'pupil sent home school england call differ approach covid case ', 'rapid increas pupil school england chang expect rule ', 'pupil entitl school meal august offer lunch januari ', 'england school recoveri commission sir kevan collin quit say fund fall far short ', 'bori johnson defend tutor school plan head left huge disappoint ', 'face cover need england secondari classroom may say prime minist ', 'gap poor pupil classmat unlik narrow without intervent research say ', 'second year result cancel exam see highest level grade ', 'former school recoveri tsar warn grow educ inequ result pandem ', 'letter sign women univers call compulsori polici sex assault claim ', 'twin brother east london gain place oxford cambridg achiev top grade ', 'still good year clear say admiss servic boss ahead result day next week ', 'student petit call ridicul uk univers keep lectur onlin next term ', 'minist longer consid make two dose mandatori student england bbc learn ', 'gavin williamson say gcse england like modifi lost lesson ', 'announc come amid critic sqa plan put place replac school exam year ', 'gene edit techniqu may prevent slaughter anim need livestock industri ', 'minist told must agre tougher polici get uk track meet goal set ', 'oil giant said econom case invest controversi project strong enough ', 'empti brown field winter countrysid could transform new land subsidi rule england ', 'scientist say made major step forward store inform molecul dna ', 'atlant hurrican season offici end third activ record ', 'ethic expert publish report govern consid whether allow farm anim ', 'number cyclist kill rural english road rose sharpli last year ', 'olaf scholz head coalit broad plan transit green economi ', 'host firm develop mini nuclear reactor question remain safeti cost ', 'decad correspond david shukman seen climat chang becom import issu ', 'expert say hydrofluorocarbon use fridg aerosol make global warm wors ', 'climat pattern lead signific weather chang differ part world ', 'climat claim went viral need know ', 'practic thing countri need order tackl climat chang ', 'despit green energi invest promis mani govern still financi back fossil fuel industri ', 'crucial climat chang summit held uk could chang live ', 'report suggest carbon footprint glasgow summit doubl ', 'chang made glasgow could implic way live ', 'spacecraft start journey aim deliber nudg asteroid cours ', 'similar landscap world could aid research mission ', 'russia destroy one satellit orbit prompt intern condemn ', 'first nasa mission return surfac moon delay one year ', 'mimick way lobster eye work scientist design new space telescop survey much larger area ', 'astronom found hint could first planet ever discov outsid galaxi ', 'space compani blue origin hope ventur replac intern space station ', 'nasa spaceship attach rocket launch moon ', 'nasa ask privat sector design new spacesuit use moon ', 'english univers begin programm attract ethnic minor student research ', 'cubesat began educ tool help human ', 'compani unveil advanc quantum processor part effort build comput ', 'andrew budziak spend night photograph anim toronto canada ', 'yu kongjian spong citi base ancient chines wisdom seek chang deal flood ', 'unpreced drought heat combin bad land manag culmin histor wildfir ', 'hull share innov approach tackl flood threat world ', 'firm often claim check green make ', 'cape town south africa coast first global citi come close run water ', 'photograph use art inspir hope keep icon anim home rang ', 'bbc roger harrabin take look tech behind hydrogen energi green potenti ', 'new chapter physic say team hunt key build block univers ']\n"
     ]
    }
   ],
   "source": [
    "#Preprocessing\n",
    "ps = PorterStemmer()\n",
    "clean_text = []\n",
    "for i in text:\n",
    "    word_tokens = word_tokenize(i.lower())\n",
    "    n = \"\"\n",
    "    for w in word_tokens:\n",
    "        if w not in stopwords.words(\"english\"):\n",
    "            if (w.isalpha()):\n",
    "                n += ps.stem(w) + \" \"\n",
    "    clean_text.append(n)\n",
    "print(clean_text)"
   ]
  },
  {
   "cell_type": "code",
   "execution_count": 111,
   "metadata": {},
   "outputs": [
    {
     "name": "stdout",
     "output_type": "stream",
     "text": [
      "[[0. 0. 0. ... 0. 0. 0.]\n",
      " [0. 0. 0. ... 0. 0. 0.]\n",
      " [0. 0. 0. ... 0. 0. 0.]\n",
      " ...\n",
      " [0. 0. 0. ... 0. 0. 0.]\n",
      " [0. 0. 0. ... 0. 0. 0.]\n",
      " [0. 0. 0. ... 0. 0. 0.]]\n"
     ]
    }
   ],
   "source": [
    "from sklearn.feature_extraction.text import TfidfVectorizer\n",
    "vectorizer = TfidfVectorizer()\n",
    "data = vectorizer.fit_transform(clean_text)\n",
    "print(data.todense())"
   ]
  },
  {
   "cell_type": "code",
   "execution_count": 112,
   "metadata": {},
   "outputs": [
    {
     "name": "stdout",
     "output_type": "stream",
     "text": [
      "[2 2 2 2 2 2 2 2 0 2 0 2 0 0 0 1 0 0 2 2 2 2 2 0 2 0 2 0 2 2 0 0 2 2 1 0 0\n",
      " 0 2 0 0 2 2 0 0 0 2 0 0 0 0 2 2 0 0 2 0 2 2 2 0 0 0 0 2 0 0 0 0 0 1 2 0 2\n",
      " 0 1 2 0 0 0 0 2 2 2 2 0 0 0 2 1 0 2 2 2 2 0 0 0 0 0 0 2 2 2 0 0 2 1 1 0 2\n",
      " 0 2 0 1 2 1 0 1 2 1 1 1 0 1 0 0 1 1 0 0 0 0 0 0 0 1 0 0 0 0 0 0 2]\n"
     ]
    }
   ],
   "source": [
    "from sklearn.cluster import KMeans\n",
    "K = 3\n",
    "model = KMeans(n_clusters=K)\n",
    "model.fit(data)\n",
    "\n",
    "print(model.labels_)"
   ]
  },
  {
   "cell_type": "code",
   "execution_count": 115,
   "metadata": {},
   "outputs": [
    {
     "name": "stdout",
     "output_type": "stream",
     "text": [
      "Enter a string for which you need to know cluster: face mask covering are important\n",
      "face mask cover import \n",
      "cluster is:  [2]\n"
     ]
    }
   ],
   "source": [
    "#Taking input from user\n",
    "q = input(\"Enter a string for which you need to know cluster: \")\n",
    "\n",
    "#pre-processing \n",
    "word_tokens = word_tokenize(q)\n",
    "x = \"\"\n",
    "for w in word_tokens:\n",
    "    if w not in stopwords.words(\"english\"):\n",
    "        x += ps.stem(w) + \" \"\n",
    "print(x)   \n",
    "\n",
    "#predicting cluster\n",
    "Y = vectorizer.transform([x])\n",
    "res = model.predict(Y)\n",
    "print(\"cluster is: \", res)"
   ]
  },
  {
   "cell_type": "code",
   "execution_count": null,
   "metadata": {},
   "outputs": [],
   "source": []
  },
  {
   "cell_type": "code",
   "execution_count": null,
   "metadata": {},
   "outputs": [],
   "source": []
  }
 ],
 "metadata": {
  "kernelspec": {
   "display_name": "Python 3",
   "language": "python",
   "name": "python3"
  },
  "language_info": {
   "codemirror_mode": {
    "name": "ipython",
    "version": 3
   },
   "file_extension": ".py",
   "mimetype": "text/x-python",
   "name": "python",
   "nbconvert_exporter": "python",
   "pygments_lexer": "ipython3",
   "version": "3.8.8"
  }
 },
 "nbformat": 4,
 "nbformat_minor": 4
}
